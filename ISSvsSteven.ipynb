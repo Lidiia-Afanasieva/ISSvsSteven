{
  "cells": [
    {
      "cell_type": "markdown",
      "metadata": {
        "id": "view-in-github",
        "colab_type": "text"
      },
      "source": [
        "<a href=\"https://colab.research.google.com/github/Lidiia-Afanasieva/ISSvsSteven/blob/main/ISSvsSteven.ipynb\" target=\"_parent\"><img src=\"https://colab.research.google.com/assets/colab-badge.svg\" alt=\"Open In Colab\"/></a>"
      ]
    },
    {
      "cell_type": "code",
      "execution_count": 1,
      "metadata": {
        "colab": {
          "base_uri": "https://localhost:8080/"
        },
        "id": "FJGvC9fIGcaK",
        "outputId": "383cb1d2-fe5d-413e-86c7-0b22b1893067"
      },
      "outputs": [
        {
          "output_type": "stream",
          "name": "stdout",
          "text": [
            "Mounted at /content/drive\n"
          ]
        }
      ],
      "source": [
        "from google.colab import drive\n",
        "drive.mount('/content/drive')"
      ]
    },
    {
      "cell_type": "code",
      "source": [
        "pip install multipledispatch"
      ],
      "metadata": {
        "colab": {
          "base_uri": "https://localhost:8080/"
        },
        "id": "dQRARB7RVfyv",
        "outputId": "750ea988-eff6-4780-ee0a-106bca9bb178"
      },
      "execution_count": 3,
      "outputs": [
        {
          "output_type": "stream",
          "name": "stdout",
          "text": [
            "Collecting multipledispatch\n",
            "  Downloading multipledispatch-0.6.0-py3-none-any.whl (11 kB)\n",
            "Requirement already satisfied: six in /usr/local/lib/python3.7/dist-packages (from multipledispatch) (1.15.0)\n",
            "Installing collected packages: multipledispatch\n",
            "Successfully installed multipledispatch-0.6.0\n"
          ]
        }
      ]
    },
    {
      "cell_type": "code",
      "execution_count": 4,
      "metadata": {
        "id": "6V0_lPAFHeH8"
      },
      "outputs": [],
      "source": [
        "# TensorFlow and tf.keras\n",
        "import tensorflow as tf\n",
        "from PIL import Image\n",
        "import os\n",
        "from urllib.request import urlopen\n",
        "import io\n",
        "import seaborn as sns\n",
        "import random\n",
        "\n",
        "# Helper libraries\n",
        "from IPython.core.pylabtools import figsize\n",
        "from tensorflow.keras.utils import to_categorical\n",
        "import numpy as np\n",
        "import matplotlib.pyplot as plt\n",
        "import cv2\n",
        "import pandas as pd\n",
        "\n",
        "from sklearn.metrics import confusion_matrix\n",
        "from sklearn.metrics import classification_report\n",
        "from multipledispatch import dispatch\n",
        "import itertools\n",
        "from sklearn.model_selection import train_test_split\n",
        "from keras.utils.np_utils import to_categorical\n",
        "from keras.models import Sequential \n",
        "from keras.layers import Dense, Dropout, Flatten, Conv2D, MaxPool2D, Activation\n",
        "from tensorflow.keras.optimizers import Adam\n",
        "from keras.preprocessing.image import ImageDataGenerator\n",
        "from keras.callbacks import ReduceLROnPlateau\n",
        "\n",
        "from urllib.error import HTTPError\n",
        "import sys"
      ]
    },
    {
      "cell_type": "code",
      "source": [
        "# TO SHOW IMAGE\n",
        "\n",
        "@dispatch(list)\n",
        "def magick(steeevaaa):\n",
        "    global classes\n",
        "    \n",
        "    plt.figure(figsize=(8,8))\n",
        "    plt.imshow(steeevaaa[0])\n",
        "    plt.axis('off')"
      ],
      "metadata": {
        "id": "g28907QeTbt-"
      },
      "execution_count": 5,
      "outputs": []
    },
    {
      "cell_type": "code",
      "execution_count": 6,
      "metadata": {
        "id": "yWXG8NgBHeFz"
      },
      "outputs": [],
      "source": [
        "# TO SHOW IMAGES PAIR\n",
        "\n",
        "@dispatch(list, list)\n",
        "def magick(steeevaaa, issaaaa):\n",
        "    global classes\n",
        "    \n",
        "    plt.figure(figsize=(8,8))\n",
        "\n",
        "    for j, i in enumerate([steeevaaa, issaaaa]):\n",
        "        plt.subplot(1, 2, j + 1)\n",
        "        plt.title(classes[i[1]])\n",
        "        plt.imshow(i[0])\n",
        "        plt.axis('off')"
      ]
    },
    {
      "cell_type": "code",
      "execution_count": 7,
      "metadata": {
        "id": "lMcU4M-NHeCL"
      },
      "outputs": [],
      "source": [
        "# TO DOWNLOAD DATASET AND CHANGE SIZE\n",
        "\n",
        "def download_set(data_path, class_name):\n",
        "    global img_size\n",
        "    only_img_list = []\n",
        "\n",
        "    for img in os.listdir(data_path):\n",
        "        img_arr =  cv2.imread(os.path.join(data_path, str(img)))\n",
        "        # color channel conversion and circumcision))\n",
        "        img_arr = cv2.cvtColor(cv2.resize(img_arr, dsize=(img_size, img_size)), cv2.COLOR_BGR2RGB)\n",
        "        only_img_list.append(img_arr)\n",
        "\n",
        "    return only_img_list"
      ]
    },
    {
      "cell_type": "code",
      "execution_count": 6,
      "metadata": {
        "id": "RfZsT35-abQV"
      },
      "outputs": [],
      "source": [
        "img_size = 8"
      ]
    },
    {
      "cell_type": "code",
      "execution_count": 8,
      "metadata": {
        "colab": {
          "base_uri": "https://localhost:8080/",
          "height": 322
        },
        "id": "k7hTwoXSHd_y",
        "outputId": "cdec696c-38f1-4f62-eeaa-4be202f642ea"
      },
      "outputs": [
        {
          "output_type": "stream",
          "name": "stdout",
          "text": [
            "/content/drive/MyDrive/steven/Стивен из вселенной Стивена и международная космическая станция/MKC\n",
            "602 0\n",
            "/content/drive/MyDrive/steven/Стивен из вселенной Стивена и международная космическая станция/Стивен из вселенной Стивена\n",
            "520 1\n"
          ]
        },
        {
          "output_type": "display_data",
          "data": {
            "text/plain": [
              "<Figure size 576x576 with 2 Axes>"
            ],
            "image/png": "[encoded data removed]"
          },
          "metadata": {
            "needs_background": "light"
          }
        }
      ],
      "source": [
        "# FULL DATASET\n",
        "\n",
        "full_ISS_dir = \"/content/drive/MyDrive/steven/Стивен из вселенной Стивена и международная космическая станция/MKC\"  # 602\n",
        "full_Steven_dir = \"/content/drive/MyDrive/steven/Стивен из вселенной Стивена и международная космическая станция/Стивен из вселенной Стивена\"  # 520\n",
        "\n",
        "directory = [full_ISS_dir, full_Steven_dir]\n",
        "\n",
        "classes = ['Not Pumpyy pooo', 'Pumpy pooo']\n",
        "\n",
        "full_img_list = []\n",
        "full_base = []\n",
        "\n",
        "img_size = 32\n",
        "\n",
        "train_base = []\n",
        "test_base = []\n",
        "temp_arr = []\n",
        "\n",
        "only_img_list_tr = []\n",
        "only_img_list_tt = []\n",
        "\n",
        "for d_set_path in directory:\n",
        "    print(d_set_path)  # debag\n",
        "    os.chdir(d_set_path)\n",
        "    current_class = 0 if '/MKC' in d_set_path else 1\n",
        "    full_img_list.extend(download_set(os.getcwd(), current_class))\n",
        "    temp_arr = download_set(os.getcwd(), current_class)\n",
        "    print(len(temp_arr), current_class)  # debag\n",
        "    full_base.extend([[i, current_class] for i in temp_arr])\n",
        "\n",
        "magick(full_base[800], full_base[4])"
      ]
    },
    {
      "cell_type": "code",
      "source": [
        "magick(full_base[800])\n",
        "# plt.savefig(\"/content/drive/MyDrive/CoolSteven.png\")"
      ],
      "metadata": {
        "colab": {
          "base_uri": "https://localhost:8080/",
          "height": 466
        },
        "id": "dQutyq4QS9Ow",
        "outputId": "9e391536-b405-49ed-e361-6c9b61dbad07"
      },
      "execution_count": 9,
      "outputs": [
        {
          "output_type": "display_data",
          "data": {
            "text/plain": [
              "<Figure size 576x576 with 1 Axes>"
            ],
            "image/png": "[encoded data removed]"
          },
          "metadata": {
            "needs_background": "light"
          }
        }
      ]
    },
    {
      "cell_type": "code",
      "execution_count": null,
      "metadata": {
        "colab": {
          "base_uri": "https://localhost:8080/"
        },
        "id": "4SxAL3EWRra_",
        "outputId": "a1ca6e15-803c-47ec-ff73-a3a951524c28"
      },
      "outputs": [
        {
          "name": "stdout",
          "output_type": "stream",
          "text": [
            "<class 'numpy.ndarray'>\n"
          ]
        }
      ],
      "source": [
        "print(type(full_base[0][0]))"
      ]
    },
    {
      "cell_type": "code",
      "execution_count": 10,
      "metadata": {
        "colab": {
          "base_uri": "https://localhost:8080/"
        },
        "id": "h3Rcoyewd2d-",
        "outputId": "b869dbe2-6233-4a98-fb00-c79ad027cb32"
      },
      "outputs": [
        {
          "output_type": "stream",
          "name": "stdout",
          "text": [
            "x_train shape is : (717, 32, 32, 3)\n",
            "x_test shape is : (225, 32, 32, 3)\n",
            "y_train shape is : (717, 2)\n"
          ]
        }
      ],
      "source": [
        "# BUILDING A RIGHT ARRAY MODE\n",
        "\n",
        "random.shuffle(full_base)\n",
        "\n",
        "x_full = []\n",
        "y_full = []\n",
        "\n",
        "x_train = []\n",
        "y_train = []\n",
        "\n",
        "x_test = []\n",
        "y_test = []\n",
        "\n",
        "for img, cls in full_base:\n",
        "    x_full.append(img)\n",
        "    y_full.append(cls)\n",
        "\n",
        "x_train, x_test, y_train, y_test = train_test_split(x_full, y_full, test_size=0.2, random_state=42, shuffle=True)\n",
        "x_train, x_val, y_train, y_val = train_test_split(x_train, y_train, test_size=0.2, random_state=42, shuffle=True)\n",
        "\n",
        "x_train = np.array(x_train)\n",
        "x_test = np.array(x_test)\n",
        "\n",
        "x_train = x_train.reshape(-1, img_size, img_size, 3)\n",
        "x_train = x_train/255\n",
        "\n",
        "x_test = x_test.reshape(-1, img_size, img_size, 3)\n",
        "x_test = x_test/255\n",
        "\n",
        "print(f'x_train shape is : {x_train.shape}')  # debag\n",
        "print(f'x_test shape is : {x_test.shape}')  # debag\n",
        "\n",
        "y_train = to_categorical(y_train, num_classes=2)\n",
        "print(f'y_train shape is : {y_train.shape}')  # debag\n",
        "\n",
        "y_test = to_categorical(y_test, num_classes = 2)"
      ]
    },
    {
      "cell_type": "code",
      "execution_count": 13,
      "metadata": {
        "colab": {
          "base_uri": "https://localhost:8080/"
        },
        "id": "uOKM4eBQuH7f",
        "outputId": "7264ec60-047e-49b5-8ba6-523795622f01"
      },
      "outputs": [
        {
          "output_type": "stream",
          "name": "stdout",
          "text": [
            "x_train is : 366\n",
            "x_val is : 92\n",
            "y_train is : 366\n",
            "y_val is : 92\n",
            "Epoch 1/10\n",
            "11/11 [==============================] - 1s 44ms/step - loss: 0.7875 - accuracy: 0.6018\n",
            "Epoch 2/10\n",
            "11/11 [==============================] - 0s 41ms/step - loss: 0.4765 - accuracy: 0.7695\n",
            "Epoch 3/10\n",
            "11/11 [==============================] - 0s 42ms/step - loss: 0.3361 - accuracy: 0.8443\n",
            "Epoch 4/10\n",
            "11/11 [==============================] - 0s 43ms/step - loss: 0.2276 - accuracy: 0.9102\n",
            "Epoch 5/10\n",
            "11/11 [==============================] - 0s 45ms/step - loss: 0.1562 - accuracy: 0.9641\n",
            "Epoch 6/10\n",
            "11/11 [==============================] - 0s 42ms/step - loss: 0.1233 - accuracy: 0.9551\n",
            "Epoch 7/10\n",
            "11/11 [==============================] - 0s 42ms/step - loss: 0.1369 - accuracy: 0.9491\n",
            "Epoch 8/10\n",
            "11/11 [==============================] - 0s 41ms/step - loss: 0.1019 - accuracy: 0.9611\n",
            "Epoch 9/10\n",
            "11/11 [==============================] - 0s 43ms/step - loss: 0.0863 - accuracy: 0.9760\n",
            "Epoch 10/10\n",
            "11/11 [==============================] - 0s 42ms/step - loss: 0.0682 - accuracy: 0.9880\n"
          ]
        }
      ],
      "source": [
        "# THE COOOOLEST CODE IN THE WORLD\n",
        "# COUSE ITS WORKING\n",
        "# ACTUALLY ITS BUILD NN ARCHITECTURE AND OPTIMISE IT WITH ADAM\n",
        "\n",
        "x_train, x_val, y_train, y_val = train_test_split(x_train, y_train, test_size=0.2, random_state=42, shuffle=True)\n",
        "print(f'x_train is : {len(x_train)}')  # debag\n",
        "print(f'x_val is : {len(x_val)}')  # debag\n",
        "print(f'y_train is : {len(y_train)}')  # debag\n",
        "print(f'y_val is : {len(y_val)}')  # debag\n",
        "\n",
        "model = Sequential()\n",
        "\n",
        "model.add(Conv2D(filters=16, kernel_size=(5,5), padding='Same', activation='relu', input_shape=(img_size, img_size,3)))\n",
        "model.add(MaxPool2D(pool_size=(2,2)))\n",
        "model.add(Flatten())\n",
        "model.add(Dense(128, activation='relu'))\n",
        "model.add(Dense(2, activation='softmax'))\n",
        "\n",
        "optimizer=Adam(learning_rate=0.001)\n",
        "model.compile(optimizer=optimizer, loss='categorical_crossentropy', metrics=['accuracy'])\n",
        "epochs = 10\n",
        "batch_size = 32\n",
        "datagen = ImageDataGenerator(featurewise_center=False, \n",
        "                             samplewise_center=False, \n",
        "                             featurewise_std_normalization=False, \n",
        "                             samplewise_std_normalization=False, \n",
        "                             zca_whitening=False, \n",
        "                             zca_epsilon=0.000001, \n",
        "                             rotation_range=0.5, \n",
        "                             width_shift_range=0, \n",
        "                             height_shift_range=0, \n",
        "                             brightness_range=None, \n",
        "                             shear_range=0, \n",
        "                             zoom_range=0.5, \n",
        "                             channel_shift_range=0, \n",
        "                             fill_mode='nearest', \n",
        "                             cval=0, \n",
        "                             horizontal_flip=False, \n",
        "                             vertical_flip=False)\n",
        "\n",
        "datagen.fit(x_train)\n",
        "history = model.fit(datagen.flow(x_train, y_train, batch_size=batch_size), epochs=epochs, steps_per_epoch=x_train.shape[0]//batch_size)"
      ]
    },
    {
      "cell_type": "code",
      "execution_count": null,
      "metadata": {
        "id": "FpyO737nJ-FM"
      },
      "outputs": [],
      "source": [
        ""
      ]
    },
    {
      "cell_type": "code",
      "execution_count": null,
      "metadata": {
        "id": "-zfU6c1fJ_l3"
      },
      "outputs": [],
      "source": [
        "# NOT THE COOOOLEST CODE IN THE WORLD\n",
        "\n",
        "x_train, x_val, y_train, y_val = train_test_split(x_train, y_train, test_size=0.2, random_state=42, shuffle=True)\n",
        "print(f'x_train is : {len(x_train)}')  # debag\n",
        "print(f'x_val is : {len(x_val)}')  # debag\n",
        "print(f'y_train is : {len(y_train)}')  # debag\n",
        "print(f'y_val is : {len(y_val)}')  # debag\n",
        "\n",
        "model = Sequential()\n",
        "\n",
        "model.add(Conv2D(filters=32, kernel_size=(3,3), padding='Same', activation='relu', input_shape=(img_size, img_size,3)))\n",
        "model.add(MaxPool2D(pool_size=(2,2)))\n",
        "model.add(Flatten())\n",
        "model.add(Dense(32, activation='relu'))\n",
        "model.add(Dense(32))\n",
        "model.add(Dense(32))\n",
        "model.add(Dense(2, activation='softmax'))\n",
        "\n",
        "optimizer=Adam(learning_rate=0.001)\n",
        "model.compile(optimizer=optimizer, loss='categorical_crossentropy', metrics=['accuracy'])\n",
        "epochs = 15\n",
        "batch_size = 32\n",
        "datagen = ImageDataGenerator(featurewise_center=False, \n",
        "                             samplewise_center=False, \n",
        "                             featurewise_std_normalization=False, \n",
        "                             samplewise_std_normalization=False, \n",
        "                             zca_whitening=False, \n",
        "                             zca_epsilon=0.000001, \n",
        "                             rotation_range=0.5, \n",
        "                             width_shift_range=0, \n",
        "                             height_shift_range=0, \n",
        "                             brightness_range=None, \n",
        "                             shear_range=0, \n",
        "                             zoom_range=0.5, \n",
        "                             channel_shift_range=0, \n",
        "                             fill_mode='nearest', \n",
        "                             cval=0, \n",
        "                             horizontal_flip=False, \n",
        "                             vertical_flip=False)\n",
        "\n",
        "datagen.fit(x_train)\n",
        "history = model.fit(datagen.flow(x_train, y_train, batch_size=batch_size), epochs=epochs, steps_per_epoch=x_train.shape[0]//batch_size)"
      ]
    },
    {
      "cell_type": "code",
      "execution_count": 14,
      "metadata": {
        "colab": {
          "base_uri": "https://localhost:8080/",
          "height": 699
        },
        "id": "dhTMzoALuH5P",
        "outputId": "3538934f-393d-4b98-faa6-bc864393768e"
      },
      "outputs": [
        {
          "output_type": "stream",
          "name": "stdout",
          "text": [
            "              precision    recall  f1-score   support\n",
            "\n",
            "           0       0.98      0.96      0.97        51\n",
            "           1       0.95      0.98      0.96        41\n",
            "\n",
            "    accuracy                           0.97        92\n",
            "   macro avg       0.97      0.97      0.97        92\n",
            "weighted avg       0.97      0.97      0.97        92\n",
            "\n"
          ]
        },
        {
          "output_type": "display_data",
          "data": {
            "text/plain": [
              "<Figure size 720x648 with 2 Axes>"
            ],
            "image/png": "[encoded data removed]"
          },
          "metadata": {
            "needs_background": "light"
          }
        }
      ],
      "source": [
        "# CONTROL VALIDATION\n",
        "\n",
        "from google.colab import data_table\n",
        "\n",
        "y_pred = model.predict(x_val)\n",
        "y_pred_cls = np.argmax(y_pred, axis=1)\n",
        "y_true = np.argmax(y_val, axis=1)\n",
        "conf_mat = confusion_matrix(y_true, y_pred_cls)\n",
        "data_table.enable_dataframe_formatter()\n",
        "print(classification_report(y_true, y_pred_cls))\n",
        "f, ax = plt.subplots(figsize=(10, 9))\n",
        "sns.heatmap(conf_mat, annot=True, fmt='.0f')\n",
        "ax.set_xticklabels([item + ' (true)' for item in classes])\n",
        "ax.set_yticklabels([item + ' (pred)' for item in classes])\n",
        "plt.show()"
      ]
    },
    {
      "cell_type": "code",
      "execution_count": 15,
      "metadata": {
        "colab": {
          "base_uri": "https://localhost:8080/",
          "height": 699
        },
        "id": "PPTdjQxmuH2n",
        "outputId": "5416c02b-56d7-46aa-c382-8fa853973176"
      },
      "outputs": [
        {
          "output_type": "stream",
          "name": "stdout",
          "text": [
            "              precision    recall  f1-score   support\n",
            "\n",
            "           0       0.98      0.98      0.98       126\n",
            "           1       0.98      0.98      0.98        99\n",
            "\n",
            "    accuracy                           0.98       225\n",
            "   macro avg       0.98      0.98      0.98       225\n",
            "weighted avg       0.98      0.98      0.98       225\n",
            "\n"
          ]
        },
        {
          "output_type": "display_data",
          "data": {
            "text/plain": [
              "<Figure size 720x648 with 2 Axes>"
            ],
            "image/png": "[encoded data removed]"
          },
          "metadata": {
            "needs_background": "light"
          }
        }
      ],
      "source": [
        "# TEST\n",
        "\n",
        "y_pred2 = model.predict(x_test)\n",
        "y_pred_cls2 = np.argmax(y_pred2, axis=1)\n",
        "y_true2 = np.argmax(y_test, axis=1)\n",
        "conf_mat2 = confusion_matrix(y_true2, y_pred_cls2)\n",
        "print(classification_report(y_true2, y_pred_cls2))\n",
        "f, ax = plt.subplots(figsize=(10, 9))\n",
        "sns.heatmap(conf_mat2, annot=True, fmt='.0f')\n",
        "ax.set_xticklabels([item + ' (true)' for item in classes])\n",
        "ax.set_yticklabels([item + ' (pred)' for item in classes])\n",
        "plt.show()"
      ]
    },
    {
      "cell_type": "code",
      "execution_count": null,
      "metadata": {
        "id": "fhmhAqeI7Hlq"
      },
      "outputs": [],
      "source": [
        "# os.remove('/content/drive/MyDrive/steven/Стивен из вселенной Стивена и международная космическая станция/Стивен из вселенной Стивена/Screenshot_520.png')"
      ]
    },
    {
      "cell_type": "code",
      "source": [
        "def plot_classification_report(classification_report, title='Classification report ', cmap='RdBu'):\n",
        "    '''\n",
        "    Plot scikit-learn classification report.\n",
        "    Extension based on https://stackoverflow.com/a/31689645/395857 \n",
        "    '''\n",
        "    lines = classification_report.split('\\n')\n",
        "\n",
        "    classes = []\n",
        "    plotMat = []\n",
        "    support = []\n",
        "    class_names = []\n",
        "    for line in lines[2 : (len(lines) - 2)]:\n",
        "        t = line.strip().split()\n",
        "        if len(t) < 2: continue\n",
        "        classes.append(t[0])\n",
        "        v = [float(x) for x in t[1: len(t) - 1]]\n",
        "        support.append(int(t[-1]))\n",
        "        class_names.append(t[0])\n",
        "        print(v)\n",
        "        plotMat.append(v)\n",
        "\n",
        "    print('plotMat: {0}'.format(plotMat))\n",
        "    print('support: {0}'.format(support))\n",
        "\n",
        "    xlabel = 'Metrics'\n",
        "    ylabel = 'Classes'\n",
        "    xticklabels = ['Precision', 'Recall', 'F1-score']\n",
        "    yticklabels = ['{0} ({1})'.format(class_names[idx], sup) for idx, sup  in enumerate(support)]\n",
        "    figure_width = 25\n",
        "    figure_height = len(class_names) + 7\n",
        "    correct_orientation = False\n",
        "    heatmap(np.array(plotMat), title, xlabel, ylabel, xticklabels, yticklabels, figure_width, figure_height, correct_orientation, cmap=cmap)"
      ],
      "metadata": {
        "id": "RRabrNGMoDSG"
      },
      "execution_count": 28,
      "outputs": []
    },
    {
      "cell_type": "code",
      "source": [
        ""
      ],
      "metadata": {
        "id": "GymrVYtqp_lK"
      },
      "execution_count": null,
      "outputs": []
    },
    {
      "cell_type": "code",
      "execution_count": 29,
      "metadata": {
        "colab": {
          "base_uri": "https://localhost:8080/",
          "height": 694
        },
        "id": "nCE4kDH63Euj",
        "outputId": "3c44d0a5-6dd6-46f2-d7ee-5f3d1b436f69"
      },
      "outputs": [
        {
          "output_type": "stream",
          "name": "stdout",
          "text": [
            "Predict: its Pumpy pooo\n",
            "Probability is: 99.83300018310547%\n",
            "[1.0, 1.0, 1.0]\n",
            "[1.0]\n"
          ]
        },
        {
          "output_type": "error",
          "ename": "ValueError",
          "evalue": "ignored",
          "traceback": [
            "\u001b[0;31m---------------------------------------------------------------------------\u001b[0m",
            "\u001b[0;31mValueError\u001b[0m                                Traceback (most recent call last)",
            "\u001b[0;32m<ipython-input-29-66f98c41b65f>\u001b[0m in \u001b[0;36m<module>\u001b[0;34m()\u001b[0m\n\u001b[1;32m     59\u001b[0m     \u001b[0mprint\u001b[0m\u001b[0;34m(\u001b[0m\u001b[0;34m\"y_pred = \"\u001b[0m\u001b[0;34m,\u001b[0m \u001b[0my_pred\u001b[0m \u001b[0;34m*\u001b[0m \u001b[0;36m100\u001b[0m\u001b[0;34m)\u001b[0m\u001b[0;34m\u001b[0m\u001b[0;34m\u001b[0m\u001b[0m\n\u001b[1;32m     60\u001b[0m \u001b[0;34m\u001b[0m\u001b[0m\n\u001b[0;32m---> 61\u001b[0;31m \u001b[0mplot_classification_report\u001b[0m\u001b[0;34m(\u001b[0m\u001b[0mclassification_report\u001b[0m\u001b[0;34m(\u001b[0m\u001b[0my_true\u001b[0m\u001b[0;34m,\u001b[0m \u001b[0my_pred_cls\u001b[0m\u001b[0;34m)\u001b[0m\u001b[0;34m)\u001b[0m\u001b[0;34m\u001b[0m\u001b[0;34m\u001b[0m\u001b[0m\n\u001b[0m\u001b[1;32m     62\u001b[0m \u001b[0mconf_mat\u001b[0m \u001b[0;34m=\u001b[0m \u001b[0mconfusion_matrix\u001b[0m\u001b[0;34m(\u001b[0m\u001b[0my_true\u001b[0m\u001b[0;34m,\u001b[0m \u001b[0my_pred_cls\u001b[0m\u001b[0;34m,\u001b[0m \u001b[0mlabels\u001b[0m\u001b[0;34m=\u001b[0m\u001b[0;34m[\u001b[0m\u001b[0;36m0\u001b[0m\u001b[0;34m,\u001b[0m \u001b[0;36m1\u001b[0m\u001b[0;34m]\u001b[0m\u001b[0;34m)\u001b[0m\u001b[0;34m\u001b[0m\u001b[0;34m\u001b[0m\u001b[0m\n\u001b[1;32m     63\u001b[0m \u001b[0mf\u001b[0m\u001b[0;34m,\u001b[0m \u001b[0max\u001b[0m \u001b[0;34m=\u001b[0m \u001b[0mplt\u001b[0m\u001b[0;34m.\u001b[0m\u001b[0msubplots\u001b[0m\u001b[0;34m(\u001b[0m\u001b[0mfigsize\u001b[0m\u001b[0;34m=\u001b[0m\u001b[0;34m(\u001b[0m\u001b[0;36m10\u001b[0m\u001b[0;34m,\u001b[0m \u001b[0;36m9\u001b[0m\u001b[0;34m)\u001b[0m\u001b[0;34m)\u001b[0m\u001b[0;34m\u001b[0m\u001b[0;34m\u001b[0m\u001b[0m\n",
            "\u001b[0;32m<ipython-input-28-69443b08d147>\u001b[0m in \u001b[0;36mplot_classification_report\u001b[0;34m(classification_report, title, cmap)\u001b[0m\n\u001b[1;32m     14\u001b[0m         \u001b[0;32mif\u001b[0m \u001b[0mlen\u001b[0m\u001b[0;34m(\u001b[0m\u001b[0mt\u001b[0m\u001b[0;34m)\u001b[0m \u001b[0;34m<\u001b[0m \u001b[0;36m2\u001b[0m\u001b[0;34m:\u001b[0m \u001b[0;32mcontinue\u001b[0m\u001b[0;34m\u001b[0m\u001b[0;34m\u001b[0m\u001b[0m\n\u001b[1;32m     15\u001b[0m         \u001b[0mclasses\u001b[0m\u001b[0;34m.\u001b[0m\u001b[0mappend\u001b[0m\u001b[0;34m(\u001b[0m\u001b[0mt\u001b[0m\u001b[0;34m[\u001b[0m\u001b[0;36m0\u001b[0m\u001b[0;34m]\u001b[0m\u001b[0;34m)\u001b[0m\u001b[0;34m\u001b[0m\u001b[0;34m\u001b[0m\u001b[0m\n\u001b[0;32m---> 16\u001b[0;31m         \u001b[0mv\u001b[0m \u001b[0;34m=\u001b[0m \u001b[0;34m[\u001b[0m\u001b[0mfloat\u001b[0m\u001b[0;34m(\u001b[0m\u001b[0mx\u001b[0m\u001b[0;34m)\u001b[0m \u001b[0;32mfor\u001b[0m \u001b[0mx\u001b[0m \u001b[0;32min\u001b[0m \u001b[0mt\u001b[0m\u001b[0;34m[\u001b[0m\u001b[0;36m1\u001b[0m\u001b[0;34m:\u001b[0m \u001b[0mlen\u001b[0m\u001b[0;34m(\u001b[0m\u001b[0mt\u001b[0m\u001b[0;34m)\u001b[0m \u001b[0;34m-\u001b[0m \u001b[0;36m1\u001b[0m\u001b[0;34m]\u001b[0m\u001b[0;34m]\u001b[0m\u001b[0;34m\u001b[0m\u001b[0;34m\u001b[0m\u001b[0m\n\u001b[0m\u001b[1;32m     17\u001b[0m         \u001b[0msupport\u001b[0m\u001b[0;34m.\u001b[0m\u001b[0mappend\u001b[0m\u001b[0;34m(\u001b[0m\u001b[0mint\u001b[0m\u001b[0;34m(\u001b[0m\u001b[0mt\u001b[0m\u001b[0;34m[\u001b[0m\u001b[0;34m-\u001b[0m\u001b[0;36m1\u001b[0m\u001b[0;34m]\u001b[0m\u001b[0;34m)\u001b[0m\u001b[0;34m)\u001b[0m\u001b[0;34m\u001b[0m\u001b[0;34m\u001b[0m\u001b[0m\n\u001b[1;32m     18\u001b[0m         \u001b[0mclass_names\u001b[0m\u001b[0;34m.\u001b[0m\u001b[0mappend\u001b[0m\u001b[0;34m(\u001b[0m\u001b[0mt\u001b[0m\u001b[0;34m[\u001b[0m\u001b[0;36m0\u001b[0m\u001b[0;34m]\u001b[0m\u001b[0;34m)\u001b[0m\u001b[0;34m\u001b[0m\u001b[0;34m\u001b[0m\u001b[0m\n",
            "\u001b[0;32m<ipython-input-28-69443b08d147>\u001b[0m in \u001b[0;36m<listcomp>\u001b[0;34m(.0)\u001b[0m\n\u001b[1;32m     14\u001b[0m         \u001b[0;32mif\u001b[0m \u001b[0mlen\u001b[0m\u001b[0;34m(\u001b[0m\u001b[0mt\u001b[0m\u001b[0;34m)\u001b[0m \u001b[0;34m<\u001b[0m \u001b[0;36m2\u001b[0m\u001b[0;34m:\u001b[0m \u001b[0;32mcontinue\u001b[0m\u001b[0;34m\u001b[0m\u001b[0;34m\u001b[0m\u001b[0m\n\u001b[1;32m     15\u001b[0m         \u001b[0mclasses\u001b[0m\u001b[0;34m.\u001b[0m\u001b[0mappend\u001b[0m\u001b[0;34m(\u001b[0m\u001b[0mt\u001b[0m\u001b[0;34m[\u001b[0m\u001b[0;36m0\u001b[0m\u001b[0;34m]\u001b[0m\u001b[0;34m)\u001b[0m\u001b[0;34m\u001b[0m\u001b[0;34m\u001b[0m\u001b[0m\n\u001b[0;32m---> 16\u001b[0;31m         \u001b[0mv\u001b[0m \u001b[0;34m=\u001b[0m \u001b[0;34m[\u001b[0m\u001b[0mfloat\u001b[0m\u001b[0;34m(\u001b[0m\u001b[0mx\u001b[0m\u001b[0;34m)\u001b[0m \u001b[0;32mfor\u001b[0m \u001b[0mx\u001b[0m \u001b[0;32min\u001b[0m \u001b[0mt\u001b[0m\u001b[0;34m[\u001b[0m\u001b[0;36m1\u001b[0m\u001b[0;34m:\u001b[0m \u001b[0mlen\u001b[0m\u001b[0;34m(\u001b[0m\u001b[0mt\u001b[0m\u001b[0;34m)\u001b[0m \u001b[0;34m-\u001b[0m \u001b[0;36m1\u001b[0m\u001b[0;34m]\u001b[0m\u001b[0;34m]\u001b[0m\u001b[0;34m\u001b[0m\u001b[0;34m\u001b[0m\u001b[0m\n\u001b[0m\u001b[1;32m     17\u001b[0m         \u001b[0msupport\u001b[0m\u001b[0;34m.\u001b[0m\u001b[0mappend\u001b[0m\u001b[0;34m(\u001b[0m\u001b[0mint\u001b[0m\u001b[0;34m(\u001b[0m\u001b[0mt\u001b[0m\u001b[0;34m[\u001b[0m\u001b[0;34m-\u001b[0m\u001b[0;36m1\u001b[0m\u001b[0;34m]\u001b[0m\u001b[0;34m)\u001b[0m\u001b[0;34m)\u001b[0m\u001b[0;34m\u001b[0m\u001b[0;34m\u001b[0m\u001b[0m\n\u001b[1;32m     18\u001b[0m         \u001b[0mclass_names\u001b[0m\u001b[0;34m.\u001b[0m\u001b[0mappend\u001b[0m\u001b[0;34m(\u001b[0m\u001b[0mt\u001b[0m\u001b[0;34m[\u001b[0m\u001b[0;36m0\u001b[0m\u001b[0;34m]\u001b[0m\u001b[0;34m)\u001b[0m\u001b[0;34m\u001b[0m\u001b[0;34m\u001b[0m\u001b[0m\n",
            "\u001b[0;31mValueError\u001b[0m: could not convert string to float: 'avg'"
          ]
        },
        {
          "output_type": "display_data",
          "data": {
            "text/plain": [
              "<Figure size 432x288 with 1 Axes>"
            ],
            "image/png": "[encoded data removed]"
          },
          "metadata": {
            "needs_background": "light"
          }
        }
      ],
      "source": [
        "# URL IMAGE WORK\n",
        "\n",
        "# Pumpy pooo\n",
        "# https://c-cl.cdn.smule.com/rs-s87/arr/f8/65/e4b2a575-fbf4-4611-8f10-643c4b94bac6.jpg\n",
        "# https://media.myshows.me/shows/1920/c/19/c19d86c712121a60f9ad75979d5860f7.jpg\n",
        "# https://slovnet.ru/wp-content/uploads/2018/08/1-29.jpg  # dark bg\n",
        "\n",
        "# Not Pumpyy pooo\n",
        "# https://cdni.russiatoday.com/rbthmedia/images/2020.12/article/5feb853a85600a4a470fb151.jpg \n",
        "\n",
        "\n",
        "def get_check():\n",
        "    global img_size\n",
        "\n",
        "    fd = urlopen(\"https://c-cl.cdn.smule.com/rs-s87/arr/f8/65/e4b2a575-fbf4-4611-8f10-643c4b94bac6.jpg\")\n",
        "\n",
        "    # print(type(fd))  # debag\n",
        "    image_file = io.BytesIO(fd.read())\n",
        "    img = Image.open(image_file)\n",
        "    img_arr = np.array(img)\n",
        "    img_arr[20,30]\n",
        "    plt.axis('off')\n",
        "    # \n",
        "\n",
        "    # print(img_arr.shape)  # debag\n",
        "\n",
        "    img_arr = cv2.resize(img_arr, dsize=(img_size, img_size))\n",
        "\n",
        "    # print(img_arr.shape)  # debag\n",
        "    # print(img_arr[0])  # debag\n",
        "    plt.imshow(img_arr)  # debag\n",
        "    \n",
        "    # plt.savefig(\"/content/drive/MyDrive/steven/Стивен из вселенной Стивена и международная космическая станция/Стивен из вселенной Стивена/Screenshot_520.png\")\n",
        "\n",
        "\n",
        "    img_arr = img_arr.reshape(-1, img_size, img_size, 3)\n",
        "    img_arr = img_arr/255\n",
        "\n",
        "    # print(img_arr.shape)  # debag\n",
        "    # print(img_arr[0])  # debag\n",
        "    return img_arr\n",
        "\n",
        "\n",
        "true = 'Steven'\n",
        "# true = 'ISS'\n",
        "\n",
        "y_pred = model.predict(get_check())\n",
        "y_pred_cls = np.argmax(y_pred, axis=1)\n",
        "\n",
        "if true == 'Steven':\n",
        "    y_true = [1] \n",
        "elif true == 'ISS':\n",
        "    y_true = [0]\n",
        "if y_true == y_pred_cls:\n",
        "    print(f'Predict: its {classes[y_pred_cls[0]]}')\n",
        "    print(f'Probability is: {round(np.amax([item * 100 for item in y_pred]), 3)}%')\n",
        "else:\n",
        "    print(f'Error. Its not {true}')\n",
        "    print(\"y_pred = \", y_pred * 100)\n",
        "\n",
        "plot_classification_report(classification_report(y_true, y_pred_cls))\n",
        "conf_mat = confusion_matrix(y_true, y_pred_cls, labels=[0, 1])\n",
        "f, ax = plt.subplots(figsize=(10, 9))\n",
        "sns.heatmap(conf_mat, annot=True, fmt='.0f')\n",
        "ax.set_xticklabels([item + ' (true)' for item in classes])\n",
        "ax.set_yticklabels([item + ' (pred)' for item in classes])\n",
        "plt.show()\n",
        "print(y_pred)\n",
        "\n",
        "\n",
        "# cv2.resize(img_arr, dsize=(img_size, img_size))\n",
        "# need to solve this problem!!!!!!!!!!"
      ]
    },
    {
      "cell_type": "code",
      "source": [
        "import matplotlib.pyplot as plt\n",
        "import numpy as np\n",
        "\n",
        "def show_values(pc, fmt=\"%.2f\", **kw):\n",
        "    '''\n",
        "    Heatmap with text in each cell with matplotlib's pyplot\n",
        "    Source: https://stackoverflow.com/a/25074150/395857 \n",
        "    By HYRY\n",
        "    '''\n",
        "    from itertools import izip\n",
        "    pc.update_scalarmappable()\n",
        "    ax = pc.get_axes()\n",
        "    #ax = pc.axes# FOR LATEST MATPLOTLIB\n",
        "    #Use zip BELOW IN PYTHON 3\n",
        "    for p, color, value in izip(pc.get_paths(), pc.get_facecolors(), pc.get_array()):\n",
        "        x, y = p.vertices[:-2, :].mean(0)\n",
        "        if np.all(color[:3] > 0.5):\n",
        "            color = (0.0, 0.0, 0.0)\n",
        "        else:\n",
        "            color = (1.0, 1.0, 1.0)\n",
        "        ax.text(x, y, fmt % value, ha=\"center\", va=\"center\", color=color, **kw)\n",
        "\n",
        "\n",
        "def cm2inch(*tupl):\n",
        "    '''\n",
        "    Specify figure size in centimeter in matplotlib\n",
        "    Source: https://stackoverflow.com/a/22787457/395857\n",
        "    By gns-ank\n",
        "    '''\n",
        "    inch = 2.54\n",
        "    if type(tupl[0]) == tuple:\n",
        "        return tuple(i/inch for i in tupl[0])\n",
        "    else:\n",
        "        return tuple(i/inch for i in tupl)\n",
        "\n",
        "\n",
        "def heatmap(AUC, title, xlabel, ylabel, xticklabels, yticklabels, figure_width=40, figure_height=20, correct_orientation=False, cmap='RdBu'):\n",
        "    '''\n",
        "    Inspired by:\n",
        "    - https://stackoverflow.com/a/16124677/395857 \n",
        "    - https://stackoverflow.com/a/25074150/395857\n",
        "    '''\n",
        "\n",
        "    # Plot it out\n",
        "    fig, ax = plt.subplots()    \n",
        "    #c = ax.pcolor(AUC, edgecolors='k', linestyle= 'dashed', linewidths=0.2, cmap='RdBu', vmin=0.0, vmax=1.0)\n",
        "    c = ax.pcolor(AUC, edgecolors='k', linestyle= 'dashed', linewidths=0.2, cmap=cmap)\n",
        "\n",
        "    # put the major ticks at the middle of each cell\n",
        "    ax.set_yticks(np.arange(AUC.shape[0]) + 0.5, minor=False)\n",
        "    ax.set_xticks(np.arange(AUC.shape[1]) + 0.5, minor=False)\n",
        "\n",
        "    # set tick labels\n",
        "    #ax.set_xticklabels(np.arange(1,AUC.shape[1]+1), minor=False)\n",
        "    ax.set_xticklabels(xticklabels, minor=False)\n",
        "    ax.set_yticklabels(yticklabels, minor=False)\n",
        "\n",
        "    # set title and x/y labels\n",
        "    plt.title(title)\n",
        "    plt.xlabel(xlabel)\n",
        "    plt.ylabel(ylabel)      \n",
        "\n",
        "    # Remove last blank column\n",
        "    plt.xlim( (0, AUC.shape[1]) )\n",
        "\n",
        "    # Turn off all the ticks\n",
        "    ax = plt.gca()    \n",
        "    for t in ax.xaxis.get_major_ticks():\n",
        "        t.tick1On = False\n",
        "        t.tick2On = False\n",
        "    for t in ax.yaxis.get_major_ticks():\n",
        "        t.tick1On = False\n",
        "        t.tick2On = False\n",
        "\n",
        "    # Add color bar\n",
        "    plt.colorbar(c)\n",
        "\n",
        "    # Add text in each cell \n",
        "    show_values(c)\n",
        "\n",
        "    # Proper orientation (origin at the top left instead of bottom left)\n",
        "    if correct_orientation:\n",
        "        ax.invert_yaxis()\n",
        "        ax.xaxis.tick_top()       \n",
        "\n",
        "    # resize \n",
        "    fig = plt.gcf()\n",
        "    #fig.set_size_inches(cm2inch(40, 20))\n",
        "    #fig.set_size_inches(cm2inch(40*4, 20*4))\n",
        "    fig.set_size_inches(cm2inch(figure_width, figure_height))\n",
        "\n",
        "\n",
        "\n",
        "def plot_classification_report(classification_report, title='Classification report ', cmap='RdBu'):\n",
        "    '''\n",
        "    Plot scikit-learn classification report.\n",
        "    Extension based on https://stackoverflow.com/a/31689645/395857 \n",
        "    '''\n",
        "    lines = classification_report.split('\\n')\n",
        "\n",
        "    classes = []\n",
        "    plotMat = []\n",
        "    support = []\n",
        "    class_names = []\n",
        "    for line in lines[2 : (len(lines) - 2)]:\n",
        "        t = line.strip().split()\n",
        "        if len(t) < 2: continue\n",
        "        classes.append(t[0])\n",
        "        v = [float(x) for x in t[1: len(t) - 1]]\n",
        "        support.append(int(t[-1]))\n",
        "        class_names.append(t[0])\n",
        "        print(v)\n",
        "        plotMat.append(v)\n",
        "\n",
        "    print('plotMat: {0}'.format(plotMat))\n",
        "    print('support: {0}'.format(support))\n",
        "\n",
        "    xlabel = 'Metrics'\n",
        "    ylabel = 'Classes'\n",
        "    xticklabels = ['Precision', 'Recall', 'F1-score']\n",
        "    yticklabels = ['{0} ({1})'.format(class_names[idx], sup) for idx, sup  in enumerate(support)]\n",
        "    figure_width = 25\n",
        "    figure_height = len(class_names) + 7\n",
        "    correct_orientation = False\n",
        "    heatmap(np.array(plotMat), title, xlabel, ylabel, xticklabels, yticklabels, figure_width, figure_height, correct_orientation, cmap=cmap)\n",
        "\n",
        "\n",
        "def main():\n",
        "    sampleClassificationReport = \"\"\"             precision    recall  f1-score   support\n",
        "\n",
        "          Acacia       0.62      1.00      0.76        66\n",
        "          Blossom       0.93      0.93      0.93        40\n",
        "          Camellia       0.59      0.97      0.73        67\n",
        "          Daisy       0.47      0.92      0.62       272\n",
        "          Echium       1.00      0.16      0.28       413\n",
        "\n",
        "        avg / total       0.77      0.57      0.49       858\"\"\"\n",
        "\n",
        "\n",
        "    plot_classification_report(sampleClassificationReport)\n",
        "    plt.savefig('test_plot_classif_report.png', dpi=200, format='png', bbox_inches='tight')\n",
        "    plt.close()\n",
        "\n",
        "if __name__ == \"__main__\":\n",
        "    main()\n",
        "    #cProfile.run('main()') # if you want to do some profiling"
      ],
      "metadata": {
        "colab": {
          "base_uri": "https://localhost:8080/",
          "height": 1000
        },
        "id": "mTk3lZLNptpe",
        "outputId": "c826ecf0-c7b5-41d8-87f8-6526f261c34e"
      },
      "execution_count": 27,
      "outputs": [
        {
          "output_type": "stream",
          "name": "stdout",
          "text": [
            "[0.62, 1.0, 0.76]\n",
            "[0.93, 0.93, 0.93]\n",
            "[0.59, 0.97, 0.73]\n",
            "[0.47, 0.92, 0.62]\n",
            "[1.0, 0.16, 0.28]\n",
            "plotMat: [[0.62, 1.0, 0.76], [0.93, 0.93, 0.93], [0.59, 0.97, 0.73], [0.47, 0.92, 0.62], [1.0, 0.16, 0.28]]\n",
            "support: [66, 40, 67, 272, 413]\n"
          ]
        },
        {
          "output_type": "stream",
          "name": "stderr",
          "text": [
            "/usr/local/lib/python3.7/dist-packages/ipykernel_launcher.py:69: MatplotlibDeprecationWarning: \n",
            "The tick1On function was deprecated in Matplotlib 3.1 and will be removed in 3.3. Use Tick.tick1line.set_visible instead.\n",
            "/usr/local/lib/python3.7/dist-packages/ipykernel_launcher.py:70: MatplotlibDeprecationWarning: \n",
            "The tick2On function was deprecated in Matplotlib 3.1 and will be removed in 3.3. Use Tick.tick2line.set_visible instead.\n",
            "/usr/local/lib/python3.7/dist-packages/ipykernel_launcher.py:72: MatplotlibDeprecationWarning: \n",
            "The tick1On function was deprecated in Matplotlib 3.1 and will be removed in 3.3. Use Tick.tick1line.set_visible instead.\n",
            "/usr/local/lib/python3.7/dist-packages/ipykernel_launcher.py:73: MatplotlibDeprecationWarning: \n",
            "The tick2On function was deprecated in Matplotlib 3.1 and will be removed in 3.3. Use Tick.tick2line.set_visible instead.\n"
          ]
        },
        {
          "output_type": "error",
          "ename": "ImportError",
          "evalue": "ignored",
          "traceback": [
            "\u001b[0;31m---------------------------------------------------------------------------\u001b[0m",
            "\u001b[0;31mImportError\u001b[0m                               Traceback (most recent call last)",
            "\u001b[0;32m<ipython-input-27-fde5acbb5563>\u001b[0m in \u001b[0;36m<module>\u001b[0;34m()\u001b[0m\n\u001b[1;32m    143\u001b[0m \u001b[0;34m\u001b[0m\u001b[0m\n\u001b[1;32m    144\u001b[0m \u001b[0;32mif\u001b[0m \u001b[0m__name__\u001b[0m \u001b[0;34m==\u001b[0m \u001b[0;34m\"__main__\"\u001b[0m\u001b[0;34m:\u001b[0m\u001b[0;34m\u001b[0m\u001b[0;34m\u001b[0m\u001b[0m\n\u001b[0;32m--> 145\u001b[0;31m     \u001b[0mmain\u001b[0m\u001b[0;34m(\u001b[0m\u001b[0;34m)\u001b[0m\u001b[0;34m\u001b[0m\u001b[0;34m\u001b[0m\u001b[0m\n\u001b[0m\u001b[1;32m    146\u001b[0m     \u001b[0;31m#cProfile.run('main()') # if you want to do some profiling\u001b[0m\u001b[0;34m\u001b[0m\u001b[0;34m\u001b[0m\u001b[0;34m\u001b[0m\u001b[0m\n",
            "\u001b[0;32m<ipython-input-27-fde5acbb5563>\u001b[0m in \u001b[0;36mmain\u001b[0;34m()\u001b[0m\n\u001b[1;32m    138\u001b[0m \u001b[0;34m\u001b[0m\u001b[0m\n\u001b[1;32m    139\u001b[0m \u001b[0;34m\u001b[0m\u001b[0m\n\u001b[0;32m--> 140\u001b[0;31m     \u001b[0mplot_classification_report\u001b[0m\u001b[0;34m(\u001b[0m\u001b[0msampleClassificationReport\u001b[0m\u001b[0;34m)\u001b[0m\u001b[0;34m\u001b[0m\u001b[0;34m\u001b[0m\u001b[0m\n\u001b[0m\u001b[1;32m    141\u001b[0m     \u001b[0mplt\u001b[0m\u001b[0;34m.\u001b[0m\u001b[0msavefig\u001b[0m\u001b[0;34m(\u001b[0m\u001b[0;34m'test_plot_classif_report.png'\u001b[0m\u001b[0;34m,\u001b[0m \u001b[0mdpi\u001b[0m\u001b[0;34m=\u001b[0m\u001b[0;36m200\u001b[0m\u001b[0;34m,\u001b[0m \u001b[0mformat\u001b[0m\u001b[0;34m=\u001b[0m\u001b[0;34m'png'\u001b[0m\u001b[0;34m,\u001b[0m \u001b[0mbbox_inches\u001b[0m\u001b[0;34m=\u001b[0m\u001b[0;34m'tight'\u001b[0m\u001b[0;34m)\u001b[0m\u001b[0;34m\u001b[0m\u001b[0;34m\u001b[0m\u001b[0m\n\u001b[1;32m    142\u001b[0m     \u001b[0mplt\u001b[0m\u001b[0;34m.\u001b[0m\u001b[0mclose\u001b[0m\u001b[0;34m(\u001b[0m\u001b[0;34m)\u001b[0m\u001b[0;34m\u001b[0m\u001b[0;34m\u001b[0m\u001b[0m\n",
            "\u001b[0;32m<ipython-input-27-fde5acbb5563>\u001b[0m in \u001b[0;36mplot_classification_report\u001b[0;34m(classification_report, title, cmap)\u001b[0m\n\u001b[1;32m    123\u001b[0m     \u001b[0mfigure_height\u001b[0m \u001b[0;34m=\u001b[0m \u001b[0mlen\u001b[0m\u001b[0;34m(\u001b[0m\u001b[0mclass_names\u001b[0m\u001b[0;34m)\u001b[0m \u001b[0;34m+\u001b[0m \u001b[0;36m7\u001b[0m\u001b[0;34m\u001b[0m\u001b[0;34m\u001b[0m\u001b[0m\n\u001b[1;32m    124\u001b[0m     \u001b[0mcorrect_orientation\u001b[0m \u001b[0;34m=\u001b[0m \u001b[0;32mFalse\u001b[0m\u001b[0;34m\u001b[0m\u001b[0;34m\u001b[0m\u001b[0m\n\u001b[0;32m--> 125\u001b[0;31m     \u001b[0mheatmap\u001b[0m\u001b[0;34m(\u001b[0m\u001b[0mnp\u001b[0m\u001b[0;34m.\u001b[0m\u001b[0marray\u001b[0m\u001b[0;34m(\u001b[0m\u001b[0mplotMat\u001b[0m\u001b[0;34m)\u001b[0m\u001b[0;34m,\u001b[0m \u001b[0mtitle\u001b[0m\u001b[0;34m,\u001b[0m \u001b[0mxlabel\u001b[0m\u001b[0;34m,\u001b[0m \u001b[0mylabel\u001b[0m\u001b[0;34m,\u001b[0m \u001b[0mxticklabels\u001b[0m\u001b[0;34m,\u001b[0m \u001b[0myticklabels\u001b[0m\u001b[0;34m,\u001b[0m \u001b[0mfigure_width\u001b[0m\u001b[0;34m,\u001b[0m \u001b[0mfigure_height\u001b[0m\u001b[0;34m,\u001b[0m \u001b[0mcorrect_orientation\u001b[0m\u001b[0;34m,\u001b[0m \u001b[0mcmap\u001b[0m\u001b[0;34m=\u001b[0m\u001b[0mcmap\u001b[0m\u001b[0;34m)\u001b[0m\u001b[0;34m\u001b[0m\u001b[0;34m\u001b[0m\u001b[0m\n\u001b[0m\u001b[1;32m    126\u001b[0m \u001b[0;34m\u001b[0m\u001b[0m\n\u001b[1;32m    127\u001b[0m \u001b[0;34m\u001b[0m\u001b[0m\n",
            "\u001b[0;32m<ipython-input-27-fde5acbb5563>\u001b[0m in \u001b[0;36mheatmap\u001b[0;34m(AUC, title, xlabel, ylabel, xticklabels, yticklabels, figure_width, figure_height, correct_orientation, cmap)\u001b[0m\n\u001b[1;32m     77\u001b[0m \u001b[0;34m\u001b[0m\u001b[0m\n\u001b[1;32m     78\u001b[0m     \u001b[0;31m# Add text in each cell\u001b[0m\u001b[0;34m\u001b[0m\u001b[0;34m\u001b[0m\u001b[0;34m\u001b[0m\u001b[0m\n\u001b[0;32m---> 79\u001b[0;31m     \u001b[0mshow_values\u001b[0m\u001b[0;34m(\u001b[0m\u001b[0mc\u001b[0m\u001b[0;34m)\u001b[0m\u001b[0;34m\u001b[0m\u001b[0;34m\u001b[0m\u001b[0m\n\u001b[0m\u001b[1;32m     80\u001b[0m \u001b[0;34m\u001b[0m\u001b[0m\n\u001b[1;32m     81\u001b[0m     \u001b[0;31m# Proper orientation (origin at the top left instead of bottom left)\u001b[0m\u001b[0;34m\u001b[0m\u001b[0;34m\u001b[0m\u001b[0;34m\u001b[0m\u001b[0m\n",
            "\u001b[0;32m<ipython-input-27-fde5acbb5563>\u001b[0m in \u001b[0;36mshow_values\u001b[0;34m(pc, fmt, **kw)\u001b[0m\n\u001b[1;32m      8\u001b[0m     \u001b[0mBy\u001b[0m \u001b[0mHYRY\u001b[0m\u001b[0;34m\u001b[0m\u001b[0;34m\u001b[0m\u001b[0m\n\u001b[1;32m      9\u001b[0m     '''\n\u001b[0;32m---> 10\u001b[0;31m     \u001b[0;32mfrom\u001b[0m \u001b[0mitertools\u001b[0m \u001b[0;32mimport\u001b[0m \u001b[0mizip\u001b[0m\u001b[0;34m\u001b[0m\u001b[0;34m\u001b[0m\u001b[0m\n\u001b[0m\u001b[1;32m     11\u001b[0m     \u001b[0mpc\u001b[0m\u001b[0;34m.\u001b[0m\u001b[0mupdate_scalarmappable\u001b[0m\u001b[0;34m(\u001b[0m\u001b[0;34m)\u001b[0m\u001b[0;34m\u001b[0m\u001b[0;34m\u001b[0m\u001b[0m\n\u001b[1;32m     12\u001b[0m     \u001b[0max\u001b[0m \u001b[0;34m=\u001b[0m \u001b[0mpc\u001b[0m\u001b[0;34m.\u001b[0m\u001b[0mget_axes\u001b[0m\u001b[0;34m(\u001b[0m\u001b[0;34m)\u001b[0m\u001b[0;34m\u001b[0m\u001b[0;34m\u001b[0m\u001b[0m\n",
            "\u001b[0;31mImportError\u001b[0m: cannot import name 'izip' from 'itertools' (unknown location)",
            "",
            "\u001b[0;31m---------------------------------------------------------------------------\u001b[0;32m\nNOTE: If your import is failing due to a missing package, you can\nmanually install dependencies using either !pip or !apt.\n\nTo view examples of installing some common dependencies, click the\n\"Open Examples\" button below.\n\u001b[0;31m---------------------------------------------------------------------------\u001b[0m\n"
          ],
          "errorDetails": {
            "actions": [
              {
                "action": "open_url",
                "actionText": "Open Examples",
                "url": "/notebooks/snippets/importing_libraries.ipynb"
              }
            ]
          }
        },
        {
          "output_type": "display_data",
          "data": {
            "text/plain": [
              "<Figure size 432x288 with 2 Axes>"
            ],
            "image/png": "[encoded data removed]"
          },
          "metadata": {
            "needs_background": "light"
          }
        }
      ]
    }
  ],
  "metadata": {
    "colab": {
      "collapsed_sections": [],
      "name": "ISSvsSteven.ipynb",
      "provenance": [],
      "authorship_tag": "ABX9TyMy8MGJRqir/rvhKkAkVtTU",
      "include_colab_link": true
    },
    "kernelspec": {
      "display_name": "Python 3",
      "name": "python3"
    },
    "language_info": {
      "name": "python"
    }
  },
  "nbformat": 4,
  "nbformat_minor": 0
}