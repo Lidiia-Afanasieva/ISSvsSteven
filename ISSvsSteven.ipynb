{
  "cells": [
    {
      "cell_type": "markdown",
      "metadata": {
        "id": "view-in-github",
        "colab_type": "text"
      },
      "source": [
        "<a href=\"https://colab.research.google.com/github/Lidiia-Afanasieva/ISSvsSteven/blob/main/ISSvsSteven.ipynb\" target=\"_parent\"><img src=\"https://colab.research.google.com/assets/colab-badge.svg\" alt=\"Open In Colab\"/></a>"
      ]
    },
    {
      "cell_type": "markdown",
      "source": [
        "# **Общее**\n",
        "\n",
        "Стивен из вселенной Стивена и международная космическая станция"
      ],
      "metadata": {
        "id": "2-kjGDFPdeZH"
      }
    },
    {
      "cell_type": "code",
      "execution_count": 34,
      "metadata": {
        "id": "FJGvC9fIGcaK",
        "colab": {
          "base_uri": "https://localhost:8080/"
        },
        "outputId": "773e2754-9840-4970-b63b-2820b81b678e"
      },
      "outputs": [
        {
          "output_type": "stream",
          "name": "stdout",
          "text": [
            "Drive already mounted at /content/drive; to attempt to forcibly remount, call drive.mount(\"/content/drive\", force_remount=True).\n"
          ]
        }
      ],
      "source": [
        "from google.colab import drive\n",
        "drive.mount('/content/drive')"
      ]
    },
    {
      "cell_type": "code",
      "source": [
        "!pip install multipledispatch\n",
        "# !pip install sklearn.utils.multiclass.unique_labels\n",
        "# !pip install sklearn.metrics.precision_recall_fscore_support"
      ],
      "metadata": {
        "id": "dQRARB7RVfyv",
        "colab": {
          "base_uri": "https://localhost:8080/"
        },
        "outputId": "eeb5d94b-3712-4d31-bf77-e9738ec8d52b"
      },
      "execution_count": 35,
      "outputs": [
        {
          "output_type": "stream",
          "name": "stdout",
          "text": [
            "Looking in indexes: https://pypi.org/simple, https://us-python.pkg.dev/colab-wheels/public/simple/\n",
            "Requirement already satisfied: multipledispatch in /usr/local/lib/python3.7/dist-packages (0.6.0)\n",
            "Requirement already satisfied: six in /usr/local/lib/python3.7/dist-packages (from multipledispatch) (1.15.0)\n"
          ]
        }
      ]
    },
    {
      "cell_type": "code",
      "execution_count": 36,
      "metadata": {
        "id": "6V0_lPAFHeH8"
      },
      "outputs": [],
      "source": [
        "# Kinda important\n",
        "import tensorflow as tf\n",
        "from PIL import Image\n",
        "import os\n",
        "from urllib.request import urlopen\n",
        "import io\n",
        "import seaborn as sns\n",
        "import random\n",
        "\n",
        "from sklearn.metrics import confusion_matrix\n",
        "from sklearn.metrics import classification_report\n",
        "from multipledispatch import dispatch\n",
        "import itertools\n",
        "from sklearn.model_selection import train_test_split\n",
        "from keras.utils.np_utils import to_categorical\n",
        "from keras.models import Sequential \n",
        "from keras.layers import Dense, Dropout, Flatten, Conv2D, MaxPool2D, Activation\n",
        "from tensorflow.keras.optimizers import Adam\n",
        "from keras.preprocessing.image import ImageDataGenerator\n",
        "from keras.callbacks import ReduceLROnPlateau\n",
        "\n",
        "# Helper libraries\n",
        "from IPython.core.pylabtools import figsize\n",
        "import numpy as np\n",
        "import matplotlib.pyplot as plt\n",
        "import cv2\n",
        "import pandas as pd\n",
        "import seaborn as sn\n",
        "from copy import deepcopy\n",
        "\n",
        "from urllib.error import HTTPError\n",
        "import sys\n",
        "\n",
        "# for augmentation part \n",
        "import albumentations as A\n",
        "\n",
        "# for classification_report overriding\n",
        "from sklearn.utils.multiclass import unique_labels\n",
        "from sklearn.metrics import precision_recall_fscore_support\n",
        "from tabulate import tabulate\n"
      ]
    },
    {
      "cell_type": "markdown",
      "source": [
        "Захотелось сделать красивое отображение отчёта\n",
        "(P.S: на код не претендую,\n",
        "[не мой](https://gist.github.com/prabz/019aa868ae8b5ec7b9dfa846cec34957),  но чуть изменён)"
      ],
      "metadata": {
        "id": "nnva5HvKXZuP"
      }
    },
    {
      "cell_type": "code",
      "source": [
        "def classification_report(y_true, y_pred, labels=None, \n",
        "                          target_names=['Not Pumpyy pooo', 'Pumpy pooo'],\n",
        "                          sample_weight=None, digits=4, tablfmt='pipe'):\n",
        "    \n",
        "    floatfmt = '.{:}f'.format(digits)\n",
        "    if labels is None:\n",
        "        labels = unique_labels(y_true, y_pred)\n",
        "    else:\n",
        "        labels = np.asarray(labels)\n",
        "\n",
        "    if target_names is not None and len(labels) != len(target_names):\n",
        "        print(\n",
        "            \"labels size, {0}, does not match size of target_names, {1}\"\n",
        "            .format(len(labels), len(target_names))\n",
        "        )\n",
        "\n",
        "    last_line_heading = 'avg / total'\n",
        "\n",
        "    if target_names is None:\n",
        "        target_names = [u'%s' % l for l in labels]\n",
        "\n",
        "    headers = [\"precision\", \"recall\", \"f1-score\", \"support\"]\n",
        "\n",
        "    p, r, f1, s = precision_recall_fscore_support(y_true, y_pred,\n",
        "                                                  labels=labels,\n",
        "                                                  average=None,\n",
        "                                                  sample_weight=sample_weight)\n",
        "\n",
        "    rows = zip(target_names, p, r, f1, s)\n",
        "    tbl_rows = []\n",
        "    for row in rows:\n",
        "        tbl_rows.append(row)\n",
        "\n",
        "    # compute averages\n",
        "    last_row = (last_line_heading,\n",
        "                np.average(p, weights=s),\n",
        "                np.average(r, weights=s),\n",
        "                np.average(f1, weights=s),\n",
        "                np.sum(s))\n",
        "    tbl_rows.append(last_row)\n",
        "    return tabulate(tbl_rows, headers=headers,\n",
        "                    tablefmt=tablfmt, floatfmt=floatfmt)"
      ],
      "metadata": {
        "id": "GymrVYtqp_lK"
      },
      "execution_count": 37,
      "outputs": []
    },
    {
      "cell_type": "markdown",
      "source": [
        "Нужно было при отладке. Оставлю, т.к не мешает и полезно"
      ],
      "metadata": {
        "id": "M_Q4VGEHXOVu"
      }
    },
    {
      "cell_type": "code",
      "source": [
        "# TO SHOW IMAGE\n",
        "\n",
        "@dispatch(list)\n",
        "def magick(steeevaaa):\n",
        "    global classes\n",
        "    \n",
        "    plt.figure(figsize=(8,8))\n",
        "    plt.imshow(steeevaaa[0])\n",
        "    plt.axis('off')"
      ],
      "metadata": {
        "id": "g28907QeTbt-"
      },
      "execution_count": 38,
      "outputs": []
    },
    {
      "cell_type": "code",
      "source": [
        "# TO SHOW AUG\n",
        "\n",
        "@dispatch(np.ndarray)\n",
        "def magick(steeevaaa):\n",
        "    \n",
        "    plt.figure(figsize=(8,8))\n",
        "    plt.imshow(steeevaaa)\n",
        "    plt.axis('off')"
      ],
      "metadata": {
        "id": "yE0FlE0KF5C-"
      },
      "execution_count": 39,
      "outputs": []
    },
    {
      "cell_type": "markdown",
      "source": [
        "Просто позволяет вывести необходимую пару::"
      ],
      "metadata": {
        "id": "8G5LQ3l5XJ1V"
      }
    },
    {
      "cell_type": "code",
      "execution_count": 40,
      "metadata": {
        "id": "yWXG8NgBHeFz"
      },
      "outputs": [],
      "source": [
        "# TO SHOW IMAGES PAIR\n",
        "\n",
        "@dispatch(list, list)\n",
        "def magick(steeevaaa, issaaaa):\n",
        "    global classes\n",
        "    \n",
        "    plt.figure(figsize=(8,8))\n",
        "\n",
        "    for j, i in enumerate([steeevaaa, issaaaa]):\n",
        "        plt.subplot(1, 2, j + 1)\n",
        "        plt.title(classes[i[1]])\n",
        "        plt.imshow(i[0])\n",
        "        plt.axis('off')"
      ]
    },
    {
      "cell_type": "code",
      "execution_count": 41,
      "metadata": {
        "id": "lMcU4M-NHeCL"
      },
      "outputs": [],
      "source": [
        "# TO DOWNLOAD DATASET AND CHANGE SIZE\n",
        "aug_ex = []\n",
        "\n",
        "def download_set(data_path, class_name):\n",
        "\n",
        "    global aug_ex\n",
        "\n",
        "    global img_size\n",
        "    only_img_list = []\n",
        "    \n",
        "    aug_ex = os.listdir(data_path)[200]\n",
        "\n",
        "    for img in os.listdir(data_path):\n",
        "        img_arr =  cv2.imread(os.path.join(data_path, str(img)))\n",
        "        # color channel conversion and circumcision))\n",
        "        img_arr = cv2.cvtColor(cv2.resize(img_arr, dsize=(img_size, img_size)), cv2.COLOR_BGR2RGB)\n",
        "        only_img_list.append(img_arr)\n",
        "\n",
        "    return only_img_list"
      ]
    },
    {
      "cell_type": "code",
      "execution_count": 130,
      "metadata": {
        "colab": {
          "base_uri": "https://localhost:8080/",
          "height": 342
        },
        "id": "k7hTwoXSHd_y",
        "outputId": "b9cd8a91-1226-4b58-c981-b63c2e3c1504"
      },
      "outputs": [
        {
          "output_type": "stream",
          "name": "stdout",
          "text": [
            "/content/drive/MyDrive/steven/Стивен из вселенной Стивена и международная космическая станция/MKC\n",
            "602 0\n",
            "/content/drive/MyDrive/steven/Стивен из вселенной Стивена и международная космическая станция/Стивен из вселенной Стивена\n",
            "520 1\n"
          ]
        },
        {
          "output_type": "display_data",
          "data": {
            "text/plain": [
              "<Figure size 576x576 with 2 Axes>"
            ],
            "image/png": "[encoded data removed]"
          },
          "metadata": {
            "needs_background": "light"
          }
        }
      ],
      "source": [
        "# FULL DATASET\n",
        "\n",
        "full_ISS_dir = \"/content/drive/MyDrive/steven/Стивен из вселенной Стивена и международная космическая станция/MKC\"  # 602\n",
        "full_Steven_dir = \"/content/drive/MyDrive/steven/Стивен из вселенной Стивена и международная космическая станция/Стивен из вселенной Стивена\"  # 520\n",
        "\n",
        "directory = [full_ISS_dir, full_Steven_dir]\n",
        "\n",
        "classes = ['Not Pumpyy pooo', 'Pumpy pooo']\n",
        "\n",
        "full_img_list = []\n",
        "full_base = []\n",
        "\n",
        "img_size = 64\n",
        "\n",
        "train_base = []\n",
        "test_base = []\n",
        "temp_arr = []\n",
        "\n",
        "only_img_list_tr = []\n",
        "only_img_list_tt = []\n",
        "\n",
        "for d_set_path in directory:\n",
        "\n",
        "    print(d_set_path)  # debag\n",
        "\n",
        "    os.chdir(d_set_path)\n",
        "    current_class = 0 if '/MKC' in d_set_path else 1\n",
        "    full_img_list.extend(download_set(os.getcwd(), current_class))\n",
        "    temp_arr = download_set(os.getcwd(), current_class)\n",
        "\n",
        "    print(len(temp_arr), current_class)  # debag\n",
        "\n",
        "    full_base.extend([[i, current_class] for i in temp_arr])\n",
        "\n",
        "magick(full_base[800], full_base[4])"
      ]
    },
    {
      "cell_type": "code",
      "source": [
        "img_arr =  cv2.imread(os.path.join(os.getcwd(), str(aug_ex)))\n",
        "print(len(full_base[800][0]))\n"
      ],
      "metadata": {
        "id": "WPU3Tz5zCeSx",
        "outputId": "2afa8bca-dc56-4fb1-a442-965027154cbd",
        "colab": {
          "base_uri": "https://localhost:8080/"
        }
      },
      "execution_count": 29,
      "outputs": [
        {
          "output_type": "stream",
          "name": "stdout",
          "text": [
            "32\n"
          ]
        }
      ]
    },
    {
      "cell_type": "code",
      "source": [
        "def aug_img(aug_model, image):\n",
        "    augmented = aug_model(image = image)        \n",
        "    \n",
        "    # image_aug = cv2.cvtColor(cv2.resize(augmented, dsize=(img_size, img_size)), cv2.COLOR_BGR2RGB)\n",
        "\n",
        "    image_aug = cv2.cvtColor(augmented['image'], cv2.COLOR_RGB2RGBA)\n",
        "    \n",
        "    return image_aug\n",
        "\n",
        "    # magick(image_aug)"
      ],
      "metadata": {
        "id": "WCir9ii59ePP"
      },
      "execution_count": 180,
      "outputs": []
    },
    {
      "cell_type": "code",
      "source": [
        "random.seed(42)\n",
        "\n",
        "color_aug = A.Compose([\n",
        "    # A.RandomGamma(p=1),\n",
        "    # A.RandomBrightnessContrast(p=1),\n",
        "    # A.ColorJitter(brightness=0.4, contrast=0.4, saturation=0.4, hue=0.4, p=1),\n",
        "    # A.ChannelShuffle(p=1),\n",
        "    A.FancyPCA(p=1),\n",
        "\n",
        "], p=1)\n",
        "\n",
        "coordination_aug = A.Compose([\n",
        "    # A.Emboss(alpha=(0.2, 0.5), strength=(0.2, 0.7), p=1),\n",
        "    # A.Equalize(mode=\"cv\", by_channels=True, mask=None, mask_params=(), p=1),\n",
        "    A.HorizontalFlip(p=1),\n",
        "    A.Rotate(p=1),\n",
        "])\n",
        "\n",
        "quality_aug = A.Compose([\n",
        "    # A.Blur(blur_limit=3, p=1),\n",
        "    # A.CLAHE(clip_limit=7, tile_grid_size=(8, 8), p=1),\n",
        "    # A.Downscale(scale_min=0.25, scale_max=0.25, interpolation=cv2.INTER_NEAREST, always_apply=True),\n",
        "    # A.GaussNoise(var_limit=(50.0, 100.0), mean=0, per_channel=True, p=1),\n",
        "    # A.RandomBrightnessContrast(brightness_limit=0.2, contrast_limit=0.3, brightness_by_max=True, p=1), \n",
        "    A.RandomFog(fog_coef_lower=0.7, fog_coef_upper=1, alpha_coef=0.8, p=1),\n",
        "\n",
        "\n",
        "])"
      ],
      "metadata": {
        "id": "qhMoLIw87D6P"
      },
      "execution_count": 178,
      "outputs": []
    },
    {
      "cell_type": "code",
      "source": [
        "for item in range(len(full_base)):\n",
        "\n",
        "    augmented_img = aug_img(coordination_aug, full_base[item][0])\n",
        "    augmented_cls = full_base[item][1]\n",
        "\n",
        "    full_base.extend([augmented_img, augmented_cls])\n",
        "\n",
        "magick(full_base[0][0])"
      ],
      "metadata": {
        "id": "7UoHJg1ciNlB",
        "outputId": "6577deb8-d476-483f-86d6-ff5ab89ee6f9",
        "colab": {
          "base_uri": "https://localhost:8080/",
          "height": 241
        }
      },
      "execution_count": 187,
      "outputs": [
        {
          "output_type": "error",
          "ename": "TypeError",
          "evalue": "ignored",
          "traceback": [
            "\u001b[0;31m---------------------------------------------------------------------------\u001b[0m",
            "\u001b[0;31mTypeError\u001b[0m                                 Traceback (most recent call last)",
            "\u001b[0;32m<ipython-input-187-058fa20c7272>\u001b[0m in \u001b[0;36m<module>\u001b[0;34m\u001b[0m\n\u001b[1;32m      1\u001b[0m \u001b[0;32mfor\u001b[0m \u001b[0mitem\u001b[0m \u001b[0;32min\u001b[0m \u001b[0mrange\u001b[0m\u001b[0;34m(\u001b[0m\u001b[0mlen\u001b[0m\u001b[0;34m(\u001b[0m\u001b[0mfull_base\u001b[0m\u001b[0;34m)\u001b[0m\u001b[0;34m)\u001b[0m\u001b[0;34m:\u001b[0m\u001b[0;34m\u001b[0m\u001b[0;34m\u001b[0m\u001b[0m\n\u001b[1;32m      2\u001b[0m \u001b[0;34m\u001b[0m\u001b[0m\n\u001b[0;32m----> 3\u001b[0;31m     \u001b[0maugmented_img\u001b[0m \u001b[0;34m=\u001b[0m \u001b[0maug_img\u001b[0m\u001b[0;34m(\u001b[0m\u001b[0mcoordination_aug\u001b[0m\u001b[0;34m,\u001b[0m \u001b[0mfull_base\u001b[0m\u001b[0;34m[\u001b[0m\u001b[0mitem\u001b[0m\u001b[0;34m]\u001b[0m\u001b[0;34m[\u001b[0m\u001b[0;36m0\u001b[0m\u001b[0;34m]\u001b[0m\u001b[0;34m)\u001b[0m\u001b[0;34m\u001b[0m\u001b[0;34m\u001b[0m\u001b[0m\n\u001b[0m\u001b[1;32m      4\u001b[0m     \u001b[0maugmented_cls\u001b[0m \u001b[0;34m=\u001b[0m \u001b[0mfull_base\u001b[0m\u001b[0;34m[\u001b[0m\u001b[0mitem\u001b[0m\u001b[0;34m]\u001b[0m\u001b[0;34m[\u001b[0m\u001b[0;36m1\u001b[0m\u001b[0;34m]\u001b[0m\u001b[0;34m\u001b[0m\u001b[0;34m\u001b[0m\u001b[0m\n\u001b[1;32m      5\u001b[0m \u001b[0;34m\u001b[0m\u001b[0m\n",
            "\u001b[0;31mTypeError\u001b[0m: 'int' object is not subscriptable"
          ]
        }
      ]
    },
    {
      "cell_type": "code",
      "source": [
        "aug_img(coordination_aug, full_base[800][0])"
      ],
      "metadata": {
        "id": "xXihAVoyA0jx",
        "outputId": "437bd9a6-ed49-4420-9af6-05b8749e1dcb",
        "colab": {
          "base_uri": "https://localhost:8080/",
          "height": 466
        }
      },
      "execution_count": 179,
      "outputs": [
        {
          "output_type": "display_data",
          "data": {
            "text/plain": [
              "<Figure size 576x576 with 1 Axes>"
            ],
            "image/png": "[encoded data removed]"
          },
          "metadata": {
            "needs_background": "light"
          }
        }
      ]
    },
    {
      "cell_type": "code",
      "source": [
        "magick(full_base[800])\n",
        "# plt.savefig(\"/content/drive/MyDrive/CoolSteven.png\")"
      ],
      "metadata": {
        "colab": {
          "base_uri": "https://localhost:8080/",
          "height": 466
        },
        "id": "dQutyq4QS9Ow",
        "outputId": "98c6693f-7bf7-445e-eac6-99805417d3ba"
      },
      "execution_count": 136,
      "outputs": [
        {
          "output_type": "display_data",
          "data": {
            "text/plain": [
              "<Figure size 576x576 with 1 Axes>"
            ],
            "image/png": "[encoded data removed]"
          },
          "metadata": {
            "needs_background": "light"
          }
        }
      ]
    },
    {
      "cell_type": "code",
      "execution_count": null,
      "metadata": {
        "colab": {
          "base_uri": "https://localhost:8080/"
        },
        "id": "h3Rcoyewd2d-",
        "outputId": "463c754a-40e9-4dcf-e94f-92201f0e14eb"
      },
      "outputs": [
        {
          "output_type": "stream",
          "name": "stdout",
          "text": [
            "x_train shape is : (717, 32, 32, 3)\n",
            "x_test shape is : (225, 32, 32, 3)\n",
            "y_train shape is : (717, 2)\n"
          ]
        }
      ],
      "source": [
        "# BUILDING A RIGHT ARRAY MODE\n",
        "\n",
        "random.shuffle(full_base)\n",
        "\n",
        "x_full = []\n",
        "y_full = []\n",
        "\n",
        "x_train = []\n",
        "y_train = []\n",
        "\n",
        "x_test = []\n",
        "y_test = []\n",
        "\n",
        "for img, cls in full_base:\n",
        "    x_full.append(img)\n",
        "    y_full.append(cls)\n",
        "\n",
        "x_train, x_test, y_train, y_test = train_test_split(x_full, y_full, test_size=0.2, random_state=42, shuffle=True)\n",
        "x_train, x_val, y_train, y_val = train_test_split(x_train, y_train, test_size=0.2, random_state=42, shuffle=True)\n",
        "\n",
        "x_train = np.array(x_train)\n",
        "x_test = np.array(x_test)\n",
        "\n",
        "x_train = x_train.reshape(-1, img_size, img_size, 3)\n",
        "x_train = x_train/255\n",
        "\n",
        "x_test = x_test.reshape(-1, img_size, img_size, 3)\n",
        "x_test = x_test/255\n",
        "\n",
        "print(f'x_train shape is : {x_train.shape}')  # debag\n",
        "print(f'x_test shape is : {x_test.shape}')  # debag\n",
        "\n",
        "y_train = to_categorical(y_train, num_classes=2)\n",
        "print(f'y_train shape is : {y_train.shape}')  # debag\n",
        "\n",
        "y_test = to_categorical(y_test, num_classes = 2)"
      ]
    },
    {
      "cell_type": "code",
      "source": [
        "x_train, x_val, y_train, y_val = train_test_split(x_train, y_train, test_size=0.2, random_state=42, shuffle=True)"
      ],
      "metadata": {
        "id": "wn2sjytSovVT"
      },
      "execution_count": null,
      "outputs": []
    },
    {
      "cell_type": "code",
      "source": [
        "print(f'x_train is : {len(x_train)}')  # debag\n",
        "print(f'x_val is : {len(x_val)}')  # debag\n",
        "print(f'y_train is : {len(y_train)}')  # debag\n",
        "print(f'y_val is : {len(y_val)}')  # debag"
      ],
      "metadata": {
        "colab": {
          "base_uri": "https://localhost:8080/"
        },
        "id": "Bwcy-2ihbFcD",
        "outputId": "2e49e3c8-2838-4e23-db01-ce7c9fdd39d9"
      },
      "execution_count": null,
      "outputs": [
        {
          "output_type": "stream",
          "name": "stdout",
          "text": [
            "x_train is : 573\n",
            "x_val is : 144\n",
            "y_train is : 573\n",
            "y_val is : 144\n"
          ]
        }
      ]
    },
    {
      "cell_type": "code",
      "source": [
        "x_train1 = deepcopy(x_train)\n",
        "x_val1 = deepcopy(x_val)\n",
        "y_train1 = deepcopy(y_train)\n",
        "y_val1 = deepcopy(y_val)"
      ],
      "metadata": {
        "id": "x2WxzHHzZZwv"
      },
      "execution_count": null,
      "outputs": []
    },
    {
      "cell_type": "code",
      "source": [
        "x_train2 = deepcopy(x_train)\n",
        "x_val2 = deepcopy(x_val)\n",
        "y_train2 = deepcopy(y_train)\n",
        "y_val2 = deepcopy(y_val)"
      ],
      "metadata": {
        "id": "-Lz2_5c7bNnz"
      },
      "execution_count": null,
      "outputs": []
    },
    {
      "cell_type": "markdown",
      "source": [
        "# **Модель 1**"
      ],
      "metadata": {
        "id": "iJbRM9YruLpn"
      }
    },
    {
      "cell_type": "code",
      "execution_count": null,
      "metadata": {
        "colab": {
          "base_uri": "https://localhost:8080/"
        },
        "id": "uOKM4eBQuH7f",
        "outputId": "362f7b7d-4aa4-4561-a52a-70bacd2eae98"
      },
      "outputs": [
        {
          "output_type": "stream",
          "name": "stdout",
          "text": [
            "Epoch 1/10\n",
            "17/17 [==============================] - 3s 68ms/step - loss: 0.6884 - accuracy: 0.7153\n",
            "Epoch 2/10\n",
            "17/17 [==============================] - 1s 67ms/step - loss: 0.3055 - accuracy: 0.8965\n",
            "Epoch 3/10\n",
            "17/17 [==============================] - 1s 68ms/step - loss: 0.2106 - accuracy: 0.9076\n",
            "Epoch 4/10\n",
            "17/17 [==============================] - 1s 56ms/step - loss: 0.1287 - accuracy: 0.9704\n",
            "Epoch 5/10\n",
            "17/17 [==============================] - 1s 39ms/step - loss: 0.0832 - accuracy: 0.9778\n",
            "Epoch 6/10\n",
            "17/17 [==============================] - 1s 42ms/step - loss: 0.0687 - accuracy: 0.9834\n",
            "Epoch 7/10\n",
            "17/17 [==============================] - 1s 40ms/step - loss: 0.0645 - accuracy: 0.9778\n",
            "Epoch 8/10\n",
            "17/17 [==============================] - 1s 38ms/step - loss: 0.0444 - accuracy: 0.9889\n",
            "Epoch 9/10\n",
            "17/17 [==============================] - 1s 40ms/step - loss: 0.0351 - accuracy: 0.9926\n",
            "Epoch 10/10\n",
            "17/17 [==============================] - 1s 40ms/step - loss: 0.0483 - accuracy: 0.9815\n"
          ]
        }
      ],
      "source": [
        "model = Sequential()\n",
        "\n",
        "model.add(Conv2D(filters=16, kernel_size=(5,5), padding='Same', activation='relu', input_shape=(img_size, img_size,3)))\n",
        "model.add(MaxPool2D(pool_size=(2,2)))\n",
        "model.add(Flatten())\n",
        "model.add(Dense(128, activation='relu'))\n",
        "model.add(Dense(2, activation='softmax'))\n",
        "\n",
        "optimizer=Adam(learning_rate=0.001)\n",
        "model.compile(optimizer=optimizer, loss='categorical_crossentropy', metrics=['accuracy'])\n",
        "epochs = 10\n",
        "batch_size = 32\n",
        "datagen = ImageDataGenerator(featurewise_center=False, \n",
        "                             samplewise_center=False, \n",
        "                             featurewise_std_normalization=False, \n",
        "                             samplewise_std_normalization=False, \n",
        "                             zca_whitening=False, \n",
        "                             zca_epsilon=0.000001, \n",
        "                             rotation_range=0.5, \n",
        "                             width_shift_range=0, \n",
        "                             height_shift_range=0, \n",
        "                             brightness_range=None, \n",
        "                             shear_range=0, \n",
        "                             zoom_range=0.5, \n",
        "                             channel_shift_range=0, \n",
        "                             fill_mode='nearest', \n",
        "                             cval=0, \n",
        "                             horizontal_flip=False, \n",
        "                             vertical_flip=False)\n",
        "\n",
        "datagen.fit(x_train)\n",
        "history = model.fit(datagen.flow(x_train, y_train, batch_size=batch_size), epochs=epochs, steps_per_epoch=x_train.shape[0]//batch_size)"
      ]
    },
    {
      "cell_type": "code",
      "source": [
        "model.summary()"
      ],
      "metadata": {
        "colab": {
          "base_uri": "https://localhost:8080/"
        },
        "id": "7R5RD03qYctX",
        "outputId": "1adb7546-38d4-4146-f1d2-8fa4f1265e3c"
      },
      "execution_count": null,
      "outputs": [
        {
          "output_type": "stream",
          "name": "stdout",
          "text": [
            "Model: \"sequential_6\"\n",
            "_________________________________________________________________\n",
            " Layer (type)                Output Shape              Param #   \n",
            "=================================================================\n",
            " conv2d_6 (Conv2D)           (None, 32, 32, 16)        1216      \n",
            "                                                                 \n",
            " max_pooling2d_6 (MaxPooling  (None, 16, 16, 16)       0         \n",
            " 2D)                                                             \n",
            "                                                                 \n",
            " flatten_6 (Flatten)         (None, 4096)              0         \n",
            "                                                                 \n",
            " dense_14 (Dense)            (None, 128)               524416    \n",
            "                                                                 \n",
            " dense_15 (Dense)            (None, 2)                 258       \n",
            "                                                                 \n",
            "=================================================================\n",
            "Total params: 525,890\n",
            "Trainable params: 525,890\n",
            "Non-trainable params: 0\n",
            "_________________________________________________________________\n"
          ]
        }
      ]
    },
    {
      "cell_type": "code",
      "execution_count": null,
      "metadata": {
        "colab": {
          "base_uri": "https://localhost:8080/",
          "height": 626
        },
        "outputId": "d53c8edc-f5dd-4138-f3ff-798aa4ec2e31",
        "id": "ARlxLW1EkHR1"
      },
      "outputs": [
        {
          "output_type": "stream",
          "name": "stdout",
          "text": [
            "|                 |   precision |   recall |   f1-score |   support |\n",
            "|:----------------|------------:|---------:|-----------:|----------:|\n",
            "| Not Pumpyy pooo |      0.9873 |   0.9286 |     0.9571 |   84.0000 |\n",
            "| Pumpy pooo      |      0.9077 |   0.9833 |     0.9440 |   60.0000 |\n",
            "| avg / total     |      0.9542 |   0.9514 |     0.9516 |  144.0000 |\n"
          ]
        },
        {
          "output_type": "display_data",
          "data": {
            "text/plain": [
              "<Figure size 720x648 with 2 Axes>"
            ],
            "image/png": "[encoded data removed]"
          },
          "metadata": {
            "needs_background": "light"
          }
        }
      ],
      "source": [
        "# CONTROL VALIDATION: MODEL\n",
        "\n",
        "from google.colab import data_table\n",
        "\n",
        "y_pred = model.predict(x_val)\n",
        "y_pred_cls = np.argmax(y_pred, axis=1)\n",
        "y_true = np.argmax(y_val, axis=1)\n",
        "conf_mat = confusion_matrix(y_true, y_pred_cls)\n",
        "data_table.enable_dataframe_formatter()\n",
        "print(classification_report(y_true, y_pred_cls))\n",
        "f, ax = plt.subplots(figsize=(10, 9))\n",
        "sns.heatmap(conf_mat, annot=True, fmt='.0f', cmap='Blues')\n",
        "ax.set_xticklabels([item + ' (true)' for item in classes])\n",
        "ax.set_yticklabels([item + ' (pred)' for item in classes])\n",
        "plt.show()"
      ]
    },
    {
      "cell_type": "code",
      "execution_count": null,
      "metadata": {
        "colab": {
          "base_uri": "https://localhost:8080/",
          "height": 626
        },
        "id": "PPTdjQxmuH2n",
        "outputId": "03e529f1-fcb3-4677-8d97-99c2e0ca942e"
      },
      "outputs": [
        {
          "output_type": "stream",
          "name": "stdout",
          "text": [
            "|                 |   precision |   recall |   f1-score |   support |\n",
            "|:----------------|------------:|---------:|-----------:|----------:|\n",
            "| Not Pumpyy pooo |      1.0000 |   0.9147 |     0.9555 |  129.0000 |\n",
            "| Pumpy pooo      |      0.8972 |   1.0000 |     0.9458 |   96.0000 |\n",
            "| avg / total     |      0.9561 |   0.9511 |     0.9513 |  225.0000 |\n"
          ]
        },
        {
          "output_type": "display_data",
          "data": {
            "text/plain": [
              "<Figure size 720x648 with 2 Axes>"
            ],
            "image/png": "[encoded data removed]"
          },
          "metadata": {
            "needs_background": "light"
          }
        }
      ],
      "source": [
        "# TEST: MODEL\n",
        "\n",
        "y_predt = model.predict(x_test)\n",
        "y_pred_clst = np.argmax(y_predt, axis=1)\n",
        "y_truet = np.argmax(y_test, axis=1)\n",
        "conf_matt = confusion_matrix(y_truet, y_pred_clst)\n",
        "print(classification_report(y_truet, y_pred_clst))\n",
        "f, ax = plt.subplots(figsize=(10, 9))\n",
        "sns.heatmap(conf_matt, annot=True, fmt='.0f', cmap='Blues')\n",
        "ax.set_xticklabels([item + ' (true)' for item in classes])\n",
        "ax.set_yticklabels([item + ' (pred)' for item in classes])\n",
        "plt.show()"
      ]
    },
    {
      "cell_type": "markdown",
      "source": [
        "# **Модель 2**"
      ],
      "metadata": {
        "id": "yqWbKQ4Oumjo"
      }
    },
    {
      "cell_type": "code",
      "source": [
        "model1 = Sequential()\n",
        "\n",
        "model1.add(Conv2D(filters=16, kernel_size=(3,3), padding='Same', activation='relu', input_shape=(img_size, img_size,3)))\n",
        "model1.add(MaxPool2D(pool_size=(2,2)))\n",
        "model1.add(Flatten())\n",
        "model1.add(Dense(128, activation='relu'))\n",
        "model1.add(Dense(2, activation='softmax'))\n",
        "\n",
        "optimizer=Adam(learning_rate=0.001)\n",
        "model1.compile(optimizer=optimizer, loss='categorical_crossentropy', metrics=['accuracy'])\n",
        "epochs = 20\n",
        "batch_size = 32\n",
        "datagen = ImageDataGenerator(featurewise_center=False, \n",
        "                             samplewise_center=False, \n",
        "                             featurewise_std_normalization=False, \n",
        "                             samplewise_std_normalization=False, \n",
        "                             zca_whitening=False, \n",
        "                             zca_epsilon=0.000001, \n",
        "                             rotation_range=0.5, \n",
        "                             width_shift_range=0, \n",
        "                             height_shift_range=0, \n",
        "                             brightness_range=None, \n",
        "                             shear_range=0, \n",
        "                             zoom_range=0.5, \n",
        "                             channel_shift_range=0, \n",
        "                             fill_mode='nearest', \n",
        "                             cval=0, \n",
        "                             horizontal_flip=False, \n",
        "                             vertical_flip=False)\n",
        "\n",
        "datagen.fit(x_train1)\n",
        "history = model1.fit(datagen.flow(x_train1, y_train1, batch_size=batch_size), epochs=epochs, steps_per_epoch=x_train1.shape[0]//batch_size)"
      ],
      "metadata": {
        "colab": {
          "base_uri": "https://localhost:8080/"
        },
        "id": "A10ixMb-YTmf",
        "outputId": "dc78c6c7-2bd4-4bec-bb91-7fe5370623ac"
      },
      "execution_count": null,
      "outputs": [
        {
          "output_type": "stream",
          "name": "stdout",
          "text": [
            "Epoch 1/20\n",
            "17/17 [==============================] - 1s 32ms/step - loss: 0.6822 - accuracy: 0.6784\n",
            "Epoch 2/20\n",
            "17/17 [==============================] - 1s 32ms/step - loss: 0.2539 - accuracy: 0.9279\n",
            "Epoch 3/20\n",
            "17/17 [==============================] - 1s 32ms/step - loss: 0.1864 - accuracy: 0.9224\n",
            "Epoch 4/20\n",
            "17/17 [==============================] - 1s 34ms/step - loss: 0.1174 - accuracy: 0.9614\n",
            "Epoch 5/20\n",
            "17/17 [==============================] - 1s 33ms/step - loss: 0.0879 - accuracy: 0.9741\n",
            "Epoch 6/20\n",
            "17/17 [==============================] - 1s 32ms/step - loss: 0.0879 - accuracy: 0.9741\n",
            "Epoch 7/20\n",
            "17/17 [==============================] - 1s 36ms/step - loss: 0.0627 - accuracy: 0.9797\n",
            "Epoch 8/20\n",
            "17/17 [==============================] - 1s 33ms/step - loss: 0.0680 - accuracy: 0.9815\n",
            "Epoch 9/20\n",
            "17/17 [==============================] - 1s 31ms/step - loss: 0.0334 - accuracy: 0.9945\n",
            "Epoch 10/20\n",
            "17/17 [==============================] - 1s 32ms/step - loss: 0.0370 - accuracy: 0.9926\n",
            "Epoch 11/20\n",
            "17/17 [==============================] - 1s 31ms/step - loss: 0.0346 - accuracy: 0.9889\n",
            "Epoch 12/20\n",
            "17/17 [==============================] - 1s 33ms/step - loss: 0.0404 - accuracy: 0.9926\n",
            "Epoch 13/20\n",
            "17/17 [==============================] - 1s 32ms/step - loss: 0.0342 - accuracy: 0.9889\n",
            "Epoch 14/20\n",
            "17/17 [==============================] - 1s 33ms/step - loss: 0.0521 - accuracy: 0.9797\n",
            "Epoch 15/20\n",
            "17/17 [==============================] - 1s 32ms/step - loss: 0.0346 - accuracy: 0.9889\n",
            "Epoch 16/20\n",
            "17/17 [==============================] - 1s 31ms/step - loss: 0.0352 - accuracy: 0.9908\n",
            "Epoch 17/20\n",
            "17/17 [==============================] - 1s 32ms/step - loss: 0.0326 - accuracy: 0.9908\n",
            "Epoch 18/20\n",
            "17/17 [==============================] - 1s 33ms/step - loss: 0.0286 - accuracy: 0.9945\n",
            "Epoch 19/20\n",
            "17/17 [==============================] - 1s 31ms/step - loss: 0.0379 - accuracy: 0.9871\n",
            "Epoch 20/20\n",
            "17/17 [==============================] - 1s 33ms/step - loss: 0.0228 - accuracy: 0.9963\n"
          ]
        }
      ]
    },
    {
      "cell_type": "code",
      "source": [
        "model1.summary()"
      ],
      "metadata": {
        "colab": {
          "base_uri": "https://localhost:8080/"
        },
        "id": "RIa8RUI6bn_R",
        "outputId": "23bd3540-d099-4c78-cfec-5de40db0e9f0"
      },
      "execution_count": null,
      "outputs": [
        {
          "output_type": "stream",
          "name": "stdout",
          "text": [
            "Model: \"sequential_1\"\n",
            "_________________________________________________________________\n",
            " Layer (type)                Output Shape              Param #   \n",
            "=================================================================\n",
            " conv2d_1 (Conv2D)           (None, 32, 32, 16)        448       \n",
            "                                                                 \n",
            " max_pooling2d_1 (MaxPooling  (None, 16, 16, 16)       0         \n",
            " 2D)                                                             \n",
            "                                                                 \n",
            " flatten_1 (Flatten)         (None, 4096)              0         \n",
            "                                                                 \n",
            " dense_2 (Dense)             (None, 128)               524416    \n",
            "                                                                 \n",
            " dense_3 (Dense)             (None, 2)                 258       \n",
            "                                                                 \n",
            "=================================================================\n",
            "Total params: 525,122\n",
            "Trainable params: 525,122\n",
            "Non-trainable params: 0\n",
            "_________________________________________________________________\n"
          ]
        }
      ]
    },
    {
      "cell_type": "code",
      "execution_count": null,
      "metadata": {
        "colab": {
          "base_uri": "https://localhost:8080/",
          "height": 626
        },
        "id": "dhTMzoALuH5P",
        "outputId": "6088bc76-f6d4-4eb0-fbf9-b8a41b02c8a9"
      },
      "outputs": [
        {
          "output_type": "stream",
          "name": "stdout",
          "text": [
            "|                 |   precision |   recall |   f1-score |   support |\n",
            "|:----------------|------------:|---------:|-----------:|----------:|\n",
            "| Not Pumpyy pooo |      0.9882 |   1.0000 |     0.9941 |   84.0000 |\n",
            "| Pumpy pooo      |      1.0000 |   0.9833 |     0.9916 |   60.0000 |\n",
            "| avg / total     |      0.9931 |   0.9931 |     0.9930 |  144.0000 |\n"
          ]
        },
        {
          "output_type": "display_data",
          "data": {
            "text/plain": [
              "<Figure size 720x648 with 2 Axes>"
            ],
            "image/png": "[encoded data removed]"
          },
          "metadata": {
            "needs_background": "light"
          }
        }
      ],
      "source": [
        "# CONTROL VALIDATION: MODEL1\n",
        "\n",
        "from google.colab import data_table\n",
        "\n",
        "y_pred = model1.predict(x_val1)\n",
        "y_pred_cls = np.argmax(y_pred, axis=1)\n",
        "y_true = np.argmax(y_val1, axis=1)\n",
        "conf_mat = confusion_matrix(y_true, y_pred_cls)\n",
        "data_table.enable_dataframe_formatter()\n",
        "print(classification_report(y_true, y_pred_cls))\n",
        "f, ax = plt.subplots(figsize=(10, 9))\n",
        "sns.heatmap(conf_mat, annot=True, fmt='.0f', cmap='Purples')\n",
        "ax.set_xticklabels([item + ' (true)' for item in classes])\n",
        "ax.set_yticklabels([item + ' (pred)' for item in classes])\n",
        "plt.show()"
      ]
    },
    {
      "cell_type": "code",
      "execution_count": null,
      "metadata": {
        "colab": {
          "base_uri": "https://localhost:8080/",
          "height": 626
        },
        "outputId": "a757446c-916c-452a-e63e-e79a963fe50b",
        "id": "pmLKaIKnnHsi"
      },
      "outputs": [
        {
          "output_type": "stream",
          "name": "stdout",
          "text": [
            "|                 |   precision |   recall |   f1-score |   support |\n",
            "|:----------------|------------:|---------:|-----------:|----------:|\n",
            "| Not Pumpyy pooo |      1.0000 |   0.9767 |     0.9882 |  129.0000 |\n",
            "| Pumpy pooo      |      0.9697 |   1.0000 |     0.9846 |   96.0000 |\n",
            "| avg / total     |      0.9871 |   0.9867 |     0.9867 |  225.0000 |\n"
          ]
        },
        {
          "output_type": "display_data",
          "data": {
            "text/plain": [
              "<Figure size 720x648 with 2 Axes>"
            ],
            "image/png": "[encoded data removed]"
          },
          "metadata": {
            "needs_background": "light"
          }
        }
      ],
      "source": [
        "# TEST: MODEL1\n",
        "\n",
        "y_predt = model1.predict(x_test)\n",
        "y_pred_clst = np.argmax(y_predt, axis=1)\n",
        "y_truet = np.argmax(y_test, axis=1)\n",
        "conf_matt = confusion_matrix(y_truet, y_pred_clst)\n",
        "print(classification_report(y_truet, y_pred_clst))\n",
        "f, ax = plt.subplots(figsize=(10, 9))\n",
        "sns.heatmap(conf_matt, annot=True, fmt='.0f', cmap='Purples')\n",
        "ax.set_xticklabels([item + ' (true)' for item in classes])\n",
        "ax.set_yticklabels([item + ' (pred)' for item in classes])\n",
        "plt.show()"
      ]
    },
    {
      "cell_type": "markdown",
      "source": [
        "# **Модель 3**"
      ],
      "metadata": {
        "id": "da2fJlwcvBbk"
      }
    },
    {
      "cell_type": "code",
      "execution_count": null,
      "metadata": {
        "id": "-zfU6c1fJ_l3",
        "colab": {
          "base_uri": "https://localhost:8080/"
        },
        "outputId": "2f5f4fdd-33f2-46e0-b568-8af16faccf6c"
      },
      "outputs": [
        {
          "output_type": "stream",
          "name": "stdout",
          "text": [
            "Epoch 1/20\n",
            "17/17 [==============================] - 1s 28ms/step - loss: 0.6810 - accuracy: 0.6026\n",
            "Epoch 2/20\n",
            "17/17 [==============================] - 1s 29ms/step - loss: 0.3742 - accuracy: 0.8632\n",
            "Epoch 3/20\n",
            "17/17 [==============================] - 1s 30ms/step - loss: 0.1936 - accuracy: 0.9501\n",
            "Epoch 4/20\n",
            "17/17 [==============================] - 1s 29ms/step - loss: 0.1512 - accuracy: 0.9522\n",
            "Epoch 5/20\n",
            "17/17 [==============================] - 1s 30ms/step - loss: 0.0850 - accuracy: 0.9778\n",
            "Epoch 6/20\n",
            "17/17 [==============================] - 1s 31ms/step - loss: 0.0727 - accuracy: 0.9798\n",
            "Epoch 7/20\n",
            "17/17 [==============================] - 1s 29ms/step - loss: 0.0566 - accuracy: 0.9834\n",
            "Epoch 8/20\n",
            "17/17 [==============================] - 1s 30ms/step - loss: 0.0470 - accuracy: 0.9889\n",
            "Epoch 9/20\n",
            "17/17 [==============================] - 1s 31ms/step - loss: 0.0336 - accuracy: 0.9908\n",
            "Epoch 10/20\n",
            "17/17 [==============================] - 1s 30ms/step - loss: 0.0393 - accuracy: 0.9908\n",
            "Epoch 11/20\n",
            "17/17 [==============================] - 1s 30ms/step - loss: 0.0304 - accuracy: 0.9908\n",
            "Epoch 12/20\n",
            "17/17 [==============================] - 1s 28ms/step - loss: 0.0251 - accuracy: 0.9926\n",
            "Epoch 13/20\n",
            "17/17 [==============================] - 1s 30ms/step - loss: 0.0221 - accuracy: 0.9945\n",
            "Epoch 14/20\n",
            "17/17 [==============================] - 1s 29ms/step - loss: 0.0157 - accuracy: 0.9963\n",
            "Epoch 15/20\n",
            "17/17 [==============================] - 1s 30ms/step - loss: 0.0205 - accuracy: 0.9963\n",
            "Epoch 16/20\n",
            "17/17 [==============================] - 1s 30ms/step - loss: 0.0216 - accuracy: 0.9963\n",
            "Epoch 17/20\n",
            "17/17 [==============================] - 1s 30ms/step - loss: 0.0176 - accuracy: 0.9963\n",
            "Epoch 18/20\n",
            "17/17 [==============================] - 1s 29ms/step - loss: 0.0176 - accuracy: 0.9982\n",
            "Epoch 19/20\n",
            "17/17 [==============================] - 1s 29ms/step - loss: 0.0154 - accuracy: 0.9945\n",
            "Epoch 20/20\n",
            "17/17 [==============================] - 1s 29ms/step - loss: 0.0051 - accuracy: 1.0000\n"
          ]
        }
      ],
      "source": [
        "model2 = Sequential()\n",
        "\n",
        "model2.add(Conv2D(filters=16, kernel_size=(3,3), padding='Same', activation='relu', input_shape=(img_size, img_size,3)))\n",
        "model2.add(MaxPool2D(pool_size=(2,2)))\n",
        "model2.add(Flatten())\n",
        "model2.add(Dense(32, activation='relu'))\n",
        "model2.add(Dense(16))\n",
        "model2.add(Dense(2, activation='softmax'))\n",
        "\n",
        "optimizer=Adam(learning_rate=0.001)\n",
        "model2.compile(optimizer=optimizer, loss='categorical_crossentropy', metrics=['accuracy'], )\n",
        "epochs = 20\n",
        "batch_size = 32\n",
        "datagen = ImageDataGenerator(featurewise_center=False, \n",
        "                             samplewise_center=False, \n",
        "                             featurewise_std_normalization=False, \n",
        "                             samplewise_std_normalization=False, \n",
        "                             zca_whitening=False, \n",
        "                             zca_epsilon=0.000001, \n",
        "                             rotation_range=0.5, \n",
        "                             width_shift_range=0, \n",
        "                             height_shift_range=0, \n",
        "                             brightness_range=None, \n",
        "                             shear_range=0, \n",
        "                             zoom_range=0.5, \n",
        "                             channel_shift_range=0, \n",
        "                             fill_mode='nearest', \n",
        "                             cval=0, \n",
        "                             horizontal_flip=False, \n",
        "                             vertical_flip=False)\n",
        "\n",
        "datagen.fit(x_train2)\n",
        "history = model2.fit(datagen.flow(x_train2, y_train2, batch_size=batch_size), epochs=epochs, steps_per_epoch=x_train2.shape[0]//batch_size)"
      ]
    },
    {
      "cell_type": "code",
      "source": [
        "model2.summary()"
      ],
      "metadata": {
        "colab": {
          "base_uri": "https://localhost:8080/"
        },
        "id": "6PJu35K0cgHS",
        "outputId": "d7f9e5b3-a4d1-46d2-af3a-9c32b1617520"
      },
      "execution_count": null,
      "outputs": [
        {
          "output_type": "stream",
          "name": "stdout",
          "text": [
            "Model: \"sequential_8\"\n",
            "_________________________________________________________________\n",
            " Layer (type)                Output Shape              Param #   \n",
            "=================================================================\n",
            " conv2d_8 (Conv2D)           (None, 32, 32, 16)        448       \n",
            "                                                                 \n",
            " max_pooling2d_8 (MaxPooling  (None, 16, 16, 16)       0         \n",
            " 2D)                                                             \n",
            "                                                                 \n",
            " flatten_8 (Flatten)         (None, 4096)              0         \n",
            "                                                                 \n",
            " dense_18 (Dense)            (None, 32)                131104    \n",
            "                                                                 \n",
            " dense_19 (Dense)            (None, 16)                528       \n",
            "                                                                 \n",
            " dense_20 (Dense)            (None, 2)                 34        \n",
            "                                                                 \n",
            "=================================================================\n",
            "Total params: 132,114\n",
            "Trainable params: 132,114\n",
            "Non-trainable params: 0\n",
            "_________________________________________________________________\n"
          ]
        }
      ]
    },
    {
      "cell_type": "code",
      "execution_count": null,
      "metadata": {
        "colab": {
          "base_uri": "https://localhost:8080/",
          "height": 627
        },
        "outputId": "58732515-ba9b-455b-d623-0f19fe569cc8",
        "id": "BMhDVN77kH9T"
      },
      "outputs": [
        {
          "output_type": "stream",
          "name": "stdout",
          "text": [
            "|                 |   precision |   recall |   f1-score |   support |\n",
            "|:----------------|------------:|---------:|-----------:|----------:|\n",
            "| Not Pumpyy pooo |      1.0000 |   0.9600 |     0.9796 |   75.0000 |\n",
            "| Pumpy pooo      |      0.9583 |   1.0000 |     0.9787 |   69.0000 |\n",
            "| avg / total     |      0.9800 |   0.9792 |     0.9792 |  144.0000 |\n"
          ]
        },
        {
          "output_type": "display_data",
          "data": {
            "text/plain": [
              "<Figure size 720x648 with 2 Axes>"
            ],
            "image/png": "[encoded data removed]"
          },
          "metadata": {
            "needs_background": "light"
          }
        }
      ],
      "source": [
        "# CONTROL VALIDATION: MODEL2\n",
        "\n",
        "from google.colab import data_table\n",
        "\n",
        "y_pred2 = model2.predict(x_val2)\n",
        "y_pred_cls2 = np.argmax(y_pred, axis=1)\n",
        "y_true2 = np.argmax(y_val2, axis=1)\n",
        "conf_mat2 = confusion_matrix(y_true2, y_pred_cls2)\n",
        "data_table.enable_dataframe_formatter()\n",
        "print(classification_report(y_true2, y_pred_cls2))\n",
        "f, ax = plt.subplots(figsize=(10, 9))\n",
        "sns.heatmap(conf_mat2, annot=True, fmt='.0f', cmap='Greens')\n",
        "ax.set_xticklabels([item + ' (true)' for item in classes])\n",
        "ax.set_yticklabels([item + ' (pred)' for item in classes])\n",
        "plt.show()"
      ]
    },
    {
      "cell_type": "code",
      "execution_count": null,
      "metadata": {
        "colab": {
          "base_uri": "https://localhost:8080/",
          "height": 627
        },
        "outputId": "f2d3ee63-be7f-430b-9c53-edd292fb1b46",
        "id": "Y6o6Vj3tnH3U"
      },
      "outputs": [
        {
          "output_type": "stream",
          "name": "stdout",
          "text": [
            "|                 |   precision |   recall |   f1-score |   support |\n",
            "|:----------------|------------:|---------:|-----------:|----------:|\n",
            "| Not Pumpyy pooo |      0.9916 |   1.0000 |     0.9958 |  118.0000 |\n",
            "| Pumpy pooo      |      1.0000 |   0.9907 |     0.9953 |  107.0000 |\n",
            "| avg / total     |      0.9956 |   0.9956 |     0.9956 |  225.0000 |\n"
          ]
        },
        {
          "output_type": "display_data",
          "data": {
            "text/plain": [
              "<Figure size 720x648 with 2 Axes>"
            ],
            "image/png": "[encoded data removed]"
          },
          "metadata": {
            "needs_background": "light"
          }
        }
      ],
      "source": [
        "# TEST: MODEL2\n",
        "\n",
        "y_predt = model2.predict(x_test)\n",
        "y_pred_clst = np.argmax(y_predt, axis=1)\n",
        "y_truet = np.argmax(y_test, axis=1)\n",
        "conf_matt = confusion_matrix(y_truet, y_pred_clst)\n",
        "print(classification_report(y_truet, y_pred_clst))\n",
        "f, ax = plt.subplots(figsize=(10, 9))\n",
        "sns.heatmap(conf_matt, annot=True, fmt='.0f', cmap='Greens')\n",
        "ax.set_xticklabels([item + ' (true)' for item in classes])\n",
        "ax.set_yticklabels([item + ' (pred)' for item in classes])\n",
        "plt.show()"
      ]
    },
    {
      "cell_type": "code",
      "execution_count": null,
      "metadata": {
        "id": "fhmhAqeI7Hlq"
      },
      "outputs": [],
      "source": [
        "# os.remove('/content/drive/MyDrive/steven/Стивен из вселенной Стивена и международная космическая станция/Стивен из вселенной Стивена/Screenshot_520.png')"
      ]
    },
    {
      "cell_type": "markdown",
      "source": [
        "# **Единичное предсказание по ссылке**"
      ],
      "metadata": {
        "id": "OscEz9SAvOC2"
      }
    },
    {
      "cell_type": "markdown",
      "source": [
        "*   Было упомянуто, что если что-то будет не так, то будете выборочную фотку по ссылке загружать в predict. Не знаем требовалось ли это делать, но теперь можно вставить через get_check ссылку на картинку. Примеры на которых работало в комментариях. Не работало только с картинками, которые по видимому были заблокированы для такой операции (по нашему мнению, может ошибаемся).\n",
        "*   Убрали отчёт, потому что слишком круто для одной картинки. "
      ],
      "metadata": {
        "id": "CbU-073-iJME"
      }
    },
    {
      "cell_type": "code",
      "source": [
        "def get_check(link, class_name):\n",
        "    global img_size\n",
        "    global true\n",
        "    \n",
        "    true = class_name\n",
        "    fd = urlopen(link)\n",
        "\n",
        "    image_file = io.BytesIO(fd.read())\n",
        "    img = Image.open(image_file)\n",
        "    img_arr = np.array(img)\n",
        "    img_arr[20,30]\n",
        "    plt.axis('off')\n",
        "\n",
        "\n",
        "    img_arr = cv2.resize(img_arr, dsize=(img_size, img_size))\n",
        "\n",
        "    plt.imshow(img_arr)  # debag\n",
        "    \n",
        "    # plt.savefig(\"/content/drive/MyDrive/steven/Стивен из вселенной Стивена и международная космическая станция/Стивен из вселенной Стивена/Screenshot_520.png\")\n",
        "\n",
        "\n",
        "    img_arr = img_arr.reshape(-1, img_size, img_size, 3)\n",
        "    img_arr = img_arr/255\n",
        "\n",
        "    return img_arr"
      ],
      "metadata": {
        "id": "s55rEMvFbiGl"
      },
      "execution_count": null,
      "outputs": []
    },
    {
      "cell_type": "markdown",
      "source": [
        "**Пояснение к использованию:**\n",
        "\n",
        "\n",
        "---\n",
        "\n",
        "Вставлять ссылку вместо уже вставленной как пример ссылки. \n",
        "\n",
        "Вторым параметром служит класс изображения на данной картинке. Он будет использоваться как верное значение, с которым будет сравниваться наше предсказание. Названия класса примлемы только в виде 'Steven' и 'ISS'. \n"
      ],
      "metadata": {
        "id": "WNCXLdNjZvFX"
      }
    },
    {
      "cell_type": "code",
      "execution_count": null,
      "metadata": {
        "colab": {
          "base_uri": "https://localhost:8080/",
          "height": 808
        },
        "id": "nCE4kDH63Euj",
        "outputId": "015c75a5-1f4d-4f2c-f996-ab1eff1c4f41"
      },
      "outputs": [
        {
          "output_type": "stream",
          "name": "stdout",
          "text": [
            "Predict: its Pumpy pooo\n",
            "Probability is: 99.96700286865234%\n"
          ]
        },
        {
          "output_type": "display_data",
          "data": {
            "text/plain": [
              "<Figure size 432x288 with 1 Axes>"
            ],
            "image/png": "[encoded data removed]"
          },
          "metadata": {
            "needs_background": "light"
          }
        },
        {
          "output_type": "display_data",
          "data": {
            "text/plain": [
              "<Figure size 720x648 with 2 Axes>"
            ],
            "image/png": "[encoded data removed]"
          },
          "metadata": {
            "needs_background": "light"
          }
        }
      ],
      "source": [
        "# URL IMAGE WORK ON MODEL\n",
        "\n",
        "# Pumpy pooo\n",
        "# https://c-cl.cdn.smule.com/rs-s87/arr/f8/65/e4b2a575-fbf4-4611-8f10-643c4b94bac6.jpg\n",
        "# https://media.myshows.me/shows/1920/c/19/c19d86c712121a60f9ad75979d5860f7.jpg\n",
        "# https://slovnet.ru/wp-content/uploads/2018/08/1-29.jpg  # dark bg\n",
        "\n",
        "# Not Pumpyy pooo\n",
        "# https://cdni.russiatoday.com/rbthmedia/images/2020.12/article/5feb853a85600a4a470fb151.jpg \n",
        "\n",
        "true = str\n",
        "\n",
        "y_pred = model.predict(get_check(\"https://c-cl.cdn.smule.com/rs-s87/arr/f8/65/e4b2a575-fbf4-4611-8f10-643c4b94bac6.jpg \", 'Steven'))\n",
        "y_pred_cls = np.argmax(y_pred, axis=1)\n",
        "\n",
        "if true == 'Steven':\n",
        "    y_true = [1] \n",
        "elif true == 'ISS':\n",
        "    y_true = [0]\n",
        "if y_true == y_pred_cls:\n",
        "    print(f'Predict: its {classes[y_pred_cls[0]]}')\n",
        "    print(f'Probability is: {round(np.amax([item * 100 for item in y_pred]), 3)}%')\n",
        "else:\n",
        "    print(f'Error. Its not {true}')\n",
        "    print(\"y_pred = \", y_pred * 100)\n",
        "\n",
        "conf_mat = confusion_matrix(y_true, y_pred_cls, labels=[0, 1])\n",
        "f, ax = plt.subplots(figsize=(10, 9))\n",
        "sns.heatmap(conf_mat, annot=True, fmt='.0f', cmap='Reds')\n",
        "ax.set_xticklabels([item + ' (true)' for item in classes])\n",
        "ax.set_yticklabels([item + ' (pred)' for item in classes])\n",
        "plt.show()"
      ]
    }
  ],
  "metadata": {
    "colab": {
      "collapsed_sections": [],
      "name": "ISSvsSteven.ipynb",
      "provenance": [],
      "authorship_tag": "ABX9TyMmwCgOBWQdlAfS+6/+xyVg",
      "include_colab_link": true
    },
    "kernelspec": {
      "display_name": "Python 3",
      "name": "python3"
    },
    "language_info": {
      "name": "python"
    }
  },
  "nbformat": 4,
  "nbformat_minor": 0
}