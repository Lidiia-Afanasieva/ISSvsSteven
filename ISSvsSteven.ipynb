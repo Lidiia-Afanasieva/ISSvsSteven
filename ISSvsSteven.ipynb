{
  "cells": [
    {
      "cell_type": "markdown",
      "metadata": {
        "id": "view-in-github",
        "colab_type": "text"
      },
      "source": [
        "<a href=\"https://colab.research.google.com/github/Lidiia-Afanasieva/ISSvsSteven/blob/main/ISSvsSteven.ipynb\" target=\"_parent\"><img src=\"https://colab.research.google.com/assets/colab-badge.svg\" alt=\"Open In Colab\"/></a>"
      ]
    },
    {
      "cell_type": "markdown",
      "source": [
        "# **Общее**\n",
        "Афанасьева Л.В, Зиновьев Д.К\n",
        "\n",
        "Стивен из вселенной Стивена и международная космическая станция"
      ],
      "metadata": {
        "id": "2-kjGDFPdeZH"
      }
    },
    {
      "cell_type": "code",
      "execution_count": 1,
      "metadata": {
        "colab": {
          "base_uri": "https://localhost:8080/"
        },
        "id": "FJGvC9fIGcaK",
        "outputId": "10a8f79e-dc20-4f67-cae8-da2461404dda"
      },
      "outputs": [
        {
          "output_type": "stream",
          "name": "stdout",
          "text": [
            "Mounted at /content/drive\n"
          ]
        }
      ],
      "source": [
        "from google.colab import drive\n",
        "drive.mount('/content/drive')"
      ]
    },
    {
      "cell_type": "code",
      "execution_count": 4,
      "metadata": {
        "id": "6V0_lPAFHeH8"
      },
      "outputs": [],
      "source": [
        "# Kinda important\n",
        "import tensorflow as tf\n",
        "from PIL import Image\n",
        "import os\n",
        "from urllib.request import urlopen\n",
        "import io\n",
        "import seaborn as sns\n",
        "import random\n",
        "\n",
        "from sklearn.metrics import confusion_matrix\n",
        "from sklearn.metrics import classification_report\n",
        "from multipledispatch import dispatch\n",
        "import itertools\n",
        "from sklearn.model_selection import train_test_split\n",
        "from keras.utils.np_utils import to_categorical\n",
        "from keras.models import Sequential \n",
        "from keras.layers import Dense, Dropout, Flatten, Conv2D, MaxPool2D, Activation\n",
        "from tensorflow.keras.optimizers import Adam\n",
        "from keras.preprocessing.image import ImageDataGenerator\n",
        "from keras.callbacks import ReduceLROnPlateau\n",
        "\n",
        "# Helper libraries\n",
        "from IPython.core.pylabtools import figsize\n",
        "import numpy as np\n",
        "import matplotlib.pyplot as plt\n",
        "import cv2\n",
        "import pandas as pd\n",
        "import seaborn as sn\n",
        "from copy import deepcopy\n",
        "\n",
        "from urllib.error import HTTPError\n",
        "import sys\n",
        "\n",
        "# for classification_report overriding\n",
        "from sklearn.utils.multiclass import unique_labels\n",
        "from sklearn.metrics import precision_recall_fscore_support\n",
        "from tabulate import tabulate\n"
      ]
    },
    {
      "cell_type": "code",
      "source": [
        "!pip install multipledispatch\n",
        "# !pip install sklearn.utils.multiclass.unique_labels\n",
        "# !pip install sklearn.metrics.precision_recall_fscore_support"
      ],
      "metadata": {
        "id": "dQRARB7RVfyv",
        "colab": {
          "base_uri": "https://localhost:8080/"
        },
        "outputId": "eefd23f6-e5c5-442c-88cf-edd09f5d48d8"
      },
      "execution_count": 3,
      "outputs": [
        {
          "output_type": "stream",
          "name": "stdout",
          "text": [
            "Collecting multipledispatch\n",
            "  Downloading multipledispatch-0.6.0-py3-none-any.whl (11 kB)\n",
            "Requirement already satisfied: six in /usr/local/lib/python3.7/dist-packages (from multipledispatch) (1.15.0)\n",
            "Installing collected packages: multipledispatch\n",
            "Successfully installed multipledispatch-0.6.0\n"
          ]
        }
      ]
    },
    {
      "cell_type": "markdown",
      "source": [
        "Захотелось сделать красивое отображение отчёта\n",
        "(P.S: на код не претендую,\n",
        "[не мой](https://gist.github.com/prabz/019aa868ae8b5ec7b9dfa846cec34957),  но чуть изменён)"
      ],
      "metadata": {
        "id": "nnva5HvKXZuP"
      }
    },
    {
      "cell_type": "code",
      "source": [
        "def classification_report(y_true, y_pred, labels=None, \n",
        "                          target_names=['Not Pumpyy pooo', 'Pumpy pooo'],\n",
        "                          sample_weight=None, digits=4, tablfmt='pipe'):\n",
        "    \n",
        "    floatfmt = '.{:}f'.format(digits)\n",
        "    if labels is None:\n",
        "        labels = unique_labels(y_true, y_pred)\n",
        "    else:\n",
        "        labels = np.asarray(labels)\n",
        "\n",
        "    if target_names is not None and len(labels) != len(target_names):\n",
        "        print(\n",
        "            \"labels size, {0}, does not match size of target_names, {1}\"\n",
        "            .format(len(labels), len(target_names))\n",
        "        )\n",
        "\n",
        "    last_line_heading = 'avg / total'\n",
        "\n",
        "    if target_names is None:\n",
        "        target_names = [u'%s' % l for l in labels]\n",
        "\n",
        "    headers = [\"precision\", \"recall\", \"f1-score\", \"support\"]\n",
        "\n",
        "    p, r, f1, s = precision_recall_fscore_support(y_true, y_pred,\n",
        "                                                  labels=labels,\n",
        "                                                  average=None,\n",
        "                                                  sample_weight=sample_weight)\n",
        "\n",
        "    rows = zip(target_names, p, r, f1, s)\n",
        "    tbl_rows = []\n",
        "    for row in rows:\n",
        "        tbl_rows.append(row)\n",
        "\n",
        "    # compute averages\n",
        "    last_row = (last_line_heading,\n",
        "                np.average(p, weights=s),\n",
        "                np.average(r, weights=s),\n",
        "                np.average(f1, weights=s),\n",
        "                np.sum(s))\n",
        "    tbl_rows.append(last_row)\n",
        "    return tabulate(tbl_rows, headers=headers,\n",
        "                    tablefmt=tablfmt, floatfmt=floatfmt)"
      ],
      "metadata": {
        "id": "GymrVYtqp_lK"
      },
      "execution_count": 5,
      "outputs": []
    },
    {
      "cell_type": "markdown",
      "source": [
        "Нужно было при отладке. Оставлю, т.к не мешает и полезно"
      ],
      "metadata": {
        "id": "M_Q4VGEHXOVu"
      }
    },
    {
      "cell_type": "code",
      "source": [
        "# TO SHOW IMAGE\n",
        "\n",
        "@dispatch(list)\n",
        "def magick(steeevaaa):\n",
        "    global classes\n",
        "    \n",
        "    plt.figure(figsize=(8,8))\n",
        "    plt.imshow(steeevaaa[0])\n",
        "    plt.axis('off')"
      ],
      "metadata": {
        "id": "g28907QeTbt-"
      },
      "execution_count": 6,
      "outputs": []
    },
    {
      "cell_type": "markdown",
      "source": [
        "Просто позволяет вывести необходимую пару::"
      ],
      "metadata": {
        "id": "8G5LQ3l5XJ1V"
      }
    },
    {
      "cell_type": "code",
      "execution_count": 7,
      "metadata": {
        "id": "yWXG8NgBHeFz"
      },
      "outputs": [],
      "source": [
        "# TO SHOW IMAGES PAIR\n",
        "\n",
        "@dispatch(list, list)\n",
        "def magick(steeevaaa, issaaaa):\n",
        "    global classes\n",
        "    \n",
        "    plt.figure(figsize=(8,8))\n",
        "\n",
        "    for j, i in enumerate([steeevaaa, issaaaa]):\n",
        "        plt.subplot(1, 2, j + 1)\n",
        "        plt.title(classes[i[1]])\n",
        "        plt.imshow(i[0])\n",
        "        plt.axis('off')"
      ]
    },
    {
      "cell_type": "markdown",
      "source": [
        "Обработка занимает около 1.5 - 2 минут. Просто потому что некоторые фотки очень качественные и красивые. Время не уменьшить, а если и можно, то этот способ не был известен.\n"
      ],
      "metadata": {
        "id": "7pcw3NZ9Wavh"
      }
    },
    {
      "cell_type": "code",
      "execution_count": 8,
      "metadata": {
        "id": "lMcU4M-NHeCL"
      },
      "outputs": [],
      "source": [
        "# TO DOWNLOAD DATASET AND CHANGE SIZE\n",
        "\n",
        "def download_set(data_path, class_name):\n",
        "    global img_size\n",
        "    only_img_list = []\n",
        "\n",
        "    for img in os.listdir(data_path):\n",
        "        img_arr =  cv2.imread(os.path.join(data_path, str(img)))\n",
        "        # color channel conversion and circumcision))\n",
        "        img_arr = cv2.cvtColor(cv2.resize(img_arr, dsize=(img_size, img_size)), cv2.COLOR_BGR2RGB)\n",
        "        only_img_list.append(img_arr)\n",
        "\n",
        "    return only_img_list"
      ]
    },
    {
      "cell_type": "markdown",
      "source": [
        "\n",
        "Уточнение: загрузка идёт с диска на котором расположен датасет. При запуске, вероятно нужно будет поменять ссылки обращения к файлу и зайти со своего диска на котором уже есть данный датасет.\n",
        "\n",
        "Пробовали задавать изображения другого размера(обрезка по img_size), но было решено оставить на 32х32 потому что больше = тяжелее и дольше обработка, а на меньшем количестве(про 16х16 и 8х8) уже неприятно уменьшалась вероятность."
      ],
      "metadata": {
        "id": "ytFHyzEgVxnh"
      }
    },
    {
      "cell_type": "code",
      "execution_count": 52,
      "metadata": {
        "colab": {
          "base_uri": "https://localhost:8080/",
          "height": 322
        },
        "id": "k7hTwoXSHd_y",
        "outputId": "d05c5458-abfd-4a3b-83c4-ee3e89c93274"
      },
      "outputs": [
        {
          "output_type": "stream",
          "name": "stdout",
          "text": [
            "/content/drive/MyDrive/steven/Стивен из вселенной Стивена и международная космическая станция/MKC\n",
            "602 0\n",
            "/content/drive/MyDrive/steven/Стивен из вселенной Стивена и международная космическая станция/Стивен из вселенной Стивена\n",
            "520 1\n"
          ]
        },
        {
          "output_type": "display_data",
          "data": {
            "text/plain": [
              "<Figure size 576x576 with 2 Axes>"
            ],
            "image/png": "[encoded data removed]"
          },
          "metadata": {
            "needs_background": "light"
          }
        }
      ],
      "source": [
        "# FULL DATASET\n",
        "\n",
        "full_ISS_dir = \"/content/drive/MyDrive/steven/Стивен из вселенной Стивена и международная космическая станция/MKC\"  # 602\n",
        "full_Steven_dir = \"/content/drive/MyDrive/steven/Стивен из вселенной Стивена и международная космическая станция/Стивен из вселенной Стивена\"  # 520\n",
        "\n",
        "directory = [full_ISS_dir, full_Steven_dir]\n",
        "\n",
        "classes = ['Not Pumpyy pooo', 'Pumpy pooo']\n",
        "\n",
        "full_img_list = []\n",
        "full_base = []\n",
        "\n",
        "img_size = 32\n",
        "\n",
        "train_base = []\n",
        "test_base = []\n",
        "temp_arr = []\n",
        "\n",
        "only_img_list_tr = []\n",
        "only_img_list_tt = []\n",
        "\n",
        "for d_set_path in directory:\n",
        "    print(d_set_path)  # debag\n",
        "    os.chdir(d_set_path)\n",
        "    current_class = 0 if '/MKC' in d_set_path else 1\n",
        "    full_img_list.extend(download_set(os.getcwd(), current_class))\n",
        "    temp_arr = download_set(os.getcwd(), current_class)\n",
        "    print(len(temp_arr), current_class)  # debag\n",
        "    full_base.extend([[i, current_class] for i in temp_arr])\n",
        "\n",
        "magick(full_base[800], full_base[4])"
      ]
    },
    {
      "cell_type": "code",
      "source": [
        "magick(full_base[800])\n",
        "# plt.savefig(\"/content/drive/MyDrive/CoolSteven.png\")"
      ],
      "metadata": {
        "colab": {
          "base_uri": "https://localhost:8080/",
          "height": 466
        },
        "id": "dQutyq4QS9Ow",
        "outputId": "9e391536-b405-49ed-e361-6c9b61dbad07"
      },
      "execution_count": null,
      "outputs": [
        {
          "output_type": "display_data",
          "data": {
            "text/plain": [
              "<Figure size 576x576 with 1 Axes>"
            ],
            "image/png": "[encoded data removed]"
          },
          "metadata": {
            "needs_background": "light"
          }
        }
      ]
    },
    {
      "cell_type": "code",
      "execution_count": 53,
      "metadata": {
        "colab": {
          "base_uri": "https://localhost:8080/"
        },
        "id": "h3Rcoyewd2d-",
        "outputId": "2f6a57d0-93f3-4e9d-d1f3-85c5c5805dbf"
      },
      "outputs": [
        {
          "output_type": "stream",
          "name": "stdout",
          "text": [
            "x_train shape is : (717, 32, 32, 3)\n",
            "x_test shape is : (225, 32, 32, 3)\n",
            "y_train shape is : (717, 2)\n"
          ]
        }
      ],
      "source": [
        "# BUILDING A RIGHT ARRAY MODE\n",
        "\n",
        "random.shuffle(full_base)\n",
        "\n",
        "x_full = []\n",
        "y_full = []\n",
        "\n",
        "x_train = []\n",
        "y_train = []\n",
        "\n",
        "x_test = []\n",
        "y_test = []\n",
        "\n",
        "for img, cls in full_base:\n",
        "    x_full.append(img)\n",
        "    y_full.append(cls)\n",
        "\n",
        "x_train, x_test, y_train, y_test = train_test_split(x_full, y_full, test_size=0.2, random_state=42, shuffle=True)\n",
        "x_train, x_val, y_train, y_val = train_test_split(x_train, y_train, test_size=0.2, random_state=42, shuffle=True)\n",
        "\n",
        "x_train = np.array(x_train)\n",
        "x_test = np.array(x_test)\n",
        "\n",
        "x_train = x_train.reshape(-1, img_size, img_size, 3)\n",
        "x_train = x_train/255\n",
        "\n",
        "x_test = x_test.reshape(-1, img_size, img_size, 3)\n",
        "x_test = x_test/255\n",
        "\n",
        "print(f'x_train shape is : {x_train.shape}')  # debag\n",
        "print(f'x_test shape is : {x_test.shape}')  # debag\n",
        "\n",
        "y_train = to_categorical(y_train, num_classes=2)\n",
        "print(f'y_train shape is : {y_train.shape}')  # debag\n",
        "\n",
        "y_test = to_categorical(y_test, num_classes = 2)"
      ]
    },
    {
      "cell_type": "code",
      "source": [
        "x_train, x_val, y_train, y_val = train_test_split(x_train, y_train, test_size=0.2, random_state=42, shuffle=True)"
      ],
      "metadata": {
        "id": "wn2sjytSovVT"
      },
      "execution_count": 54,
      "outputs": []
    },
    {
      "cell_type": "code",
      "source": [
        "print(f'x_train is : {len(x_train)}')  # debag\n",
        "print(f'x_val is : {len(x_val)}')  # debag\n",
        "print(f'y_train is : {len(y_train)}')  # debag\n",
        "print(f'y_val is : {len(y_val)}')  # debag"
      ],
      "metadata": {
        "colab": {
          "base_uri": "https://localhost:8080/"
        },
        "id": "Bwcy-2ihbFcD",
        "outputId": "f036dfd3-ab20-4d3b-e727-d341265121f2"
      },
      "execution_count": 12,
      "outputs": [
        {
          "output_type": "stream",
          "name": "stdout",
          "text": [
            "x_train is : 573\n",
            "x_val is : 144\n",
            "y_train is : 573\n",
            "y_val is : 144\n"
          ]
        }
      ]
    },
    {
      "cell_type": "code",
      "source": [
        "x_train1 = deepcopy(x_train)\n",
        "x_val1 = deepcopy(x_val)\n",
        "y_train1 = deepcopy(y_train)\n",
        "y_val1 = deepcopy(y_val)"
      ],
      "metadata": {
        "id": "x2WxzHHzZZwv"
      },
      "execution_count": 55,
      "outputs": []
    },
    {
      "cell_type": "code",
      "source": [
        "x_train2 = deepcopy(x_train)\n",
        "x_val2 = deepcopy(x_val)\n",
        "y_train2 = deepcopy(y_train)\n",
        "y_val2 = deepcopy(y_val)"
      ],
      "metadata": {
        "id": "-Lz2_5c7bNnz"
      },
      "execution_count": 56,
      "outputs": []
    },
    {
      "cell_type": "markdown",
      "source": [
        "# **Модель 1**"
      ],
      "metadata": {
        "id": "iJbRM9YruLpn"
      }
    },
    {
      "cell_type": "code",
      "execution_count": 57,
      "metadata": {
        "colab": {
          "base_uri": "https://localhost:8080/"
        },
        "id": "uOKM4eBQuH7f",
        "outputId": "79af52f3-230e-400f-8fa6-fbca7a126b96"
      },
      "outputs": [
        {
          "output_type": "stream",
          "name": "stdout",
          "text": [
            "Epoch 1/10\n",
            "17/17 [==============================] - 1s 43ms/step - loss: 0.5665 - accuracy: 0.7375\n",
            "Epoch 2/10\n",
            "17/17 [==============================] - 1s 44ms/step - loss: 0.2507 - accuracy: 0.9224\n",
            "Epoch 3/10\n",
            "17/17 [==============================] - 1s 42ms/step - loss: 0.1501 - accuracy: 0.9482\n",
            "Epoch 4/10\n",
            "17/17 [==============================] - 1s 44ms/step - loss: 0.1101 - accuracy: 0.9760\n",
            "Epoch 5/10\n",
            "17/17 [==============================] - 1s 42ms/step - loss: 0.0931 - accuracy: 0.9612\n",
            "Epoch 6/10\n",
            "17/17 [==============================] - 1s 43ms/step - loss: 0.0645 - accuracy: 0.9871\n",
            "Epoch 7/10\n",
            "17/17 [==============================] - 1s 45ms/step - loss: 0.0576 - accuracy: 0.9834\n",
            "Epoch 8/10\n",
            "17/17 [==============================] - 1s 44ms/step - loss: 0.0537 - accuracy: 0.9815\n",
            "Epoch 9/10\n",
            "17/17 [==============================] - 1s 44ms/step - loss: 0.0254 - accuracy: 0.9963\n",
            "Epoch 10/10\n",
            "17/17 [==============================] - 1s 43ms/step - loss: 0.0427 - accuracy: 0.9908\n"
          ]
        }
      ],
      "source": [
        "model = Sequential()\n",
        "\n",
        "model.add(Conv2D(filters=16, kernel_size=(5,5), padding='Same', activation='relu', input_shape=(img_size, img_size,3)))\n",
        "model.add(MaxPool2D(pool_size=(2,2)))\n",
        "model.add(Flatten())\n",
        "model.add(Dense(128, activation='relu'))\n",
        "model.add(Dense(2, activation='softmax'))\n",
        "\n",
        "optimizer=Adam(learning_rate=0.001)\n",
        "model.compile(optimizer=optimizer, loss='categorical_crossentropy', metrics=['accuracy'])\n",
        "epochs = 10\n",
        "batch_size = 32\n",
        "datagen = ImageDataGenerator(featurewise_center=False, \n",
        "                             samplewise_center=False, \n",
        "                             featurewise_std_normalization=False, \n",
        "                             samplewise_std_normalization=False, \n",
        "                             zca_whitening=False, \n",
        "                             zca_epsilon=0.000001, \n",
        "                             rotation_range=0.5, \n",
        "                             width_shift_range=0, \n",
        "                             height_shift_range=0, \n",
        "                             brightness_range=None, \n",
        "                             shear_range=0, \n",
        "                             zoom_range=0.5, \n",
        "                             channel_shift_range=0, \n",
        "                             fill_mode='nearest', \n",
        "                             cval=0, \n",
        "                             horizontal_flip=False, \n",
        "                             vertical_flip=False)\n",
        "\n",
        "datagen.fit(x_train)\n",
        "history = model.fit(datagen.flow(x_train, y_train, batch_size=batch_size), epochs=epochs, steps_per_epoch=x_train.shape[0]//batch_size)"
      ]
    },
    {
      "cell_type": "code",
      "source": [
        "model.summary()"
      ],
      "metadata": {
        "colab": {
          "base_uri": "https://localhost:8080/"
        },
        "id": "7R5RD03qYctX",
        "outputId": "c1eb2e9c-a050-4199-b4d6-8d4b553466cd"
      },
      "execution_count": 58,
      "outputs": [
        {
          "output_type": "stream",
          "name": "stdout",
          "text": [
            "Model: \"sequential_3\"\n",
            "_________________________________________________________________\n",
            " Layer (type)                Output Shape              Param #   \n",
            "=================================================================\n",
            " conv2d_3 (Conv2D)           (None, 32, 32, 16)        1216      \n",
            "                                                                 \n",
            " max_pooling2d_3 (MaxPooling  (None, 16, 16, 16)       0         \n",
            " 2D)                                                             \n",
            "                                                                 \n",
            " flatten_3 (Flatten)         (None, 4096)              0         \n",
            "                                                                 \n",
            " dense_7 (Dense)             (None, 128)               524416    \n",
            "                                                                 \n",
            " dense_8 (Dense)             (None, 2)                 258       \n",
            "                                                                 \n",
            "=================================================================\n",
            "Total params: 525,890\n",
            "Trainable params: 525,890\n",
            "Non-trainable params: 0\n",
            "_________________________________________________________________\n"
          ]
        }
      ]
    },
    {
      "cell_type": "code",
      "execution_count": 59,
      "metadata": {
        "colab": {
          "base_uri": "https://localhost:8080/",
          "height": 627
        },
        "outputId": "fde4f32b-4496-46cf-d8ef-b1b34f5648e3",
        "id": "ARlxLW1EkHR1"
      },
      "outputs": [
        {
          "output_type": "stream",
          "name": "stdout",
          "text": [
            "|                 |   precision |   recall |   f1-score |   support |\n",
            "|:----------------|------------:|---------:|-----------:|----------:|\n",
            "| Not Pumpyy pooo |      0.9855 |   0.9714 |     0.9784 |   70.0000 |\n",
            "| Pumpy pooo      |      0.9733 |   0.9865 |     0.9799 |   74.0000 |\n",
            "| avg / total     |      0.9793 |   0.9792 |     0.9792 |  144.0000 |\n"
          ]
        },
        {
          "output_type": "display_data",
          "data": {
            "text/plain": [
              "<Figure size 720x648 with 2 Axes>"
            ],
            "image/png": "[encoded data removed]"
          },
          "metadata": {
            "needs_background": "light"
          }
        }
      ],
      "source": [
        "# CONTROL VALIDATION: MODEL\n",
        "\n",
        "from google.colab import data_table\n",
        "\n",
        "y_pred = model.predict(x_val)\n",
        "y_pred_cls = np.argmax(y_pred, axis=1)\n",
        "y_true = np.argmax(y_val, axis=1)\n",
        "conf_mat = confusion_matrix(y_true, y_pred_cls)\n",
        "data_table.enable_dataframe_formatter()\n",
        "print(classification_report(y_true, y_pred_cls))\n",
        "f, ax = plt.subplots(figsize=(10, 9))\n",
        "sns.heatmap(conf_mat, annot=True, fmt='.0f', cmap='Blues')\n",
        "ax.set_xticklabels([item + ' (true)' for item in classes])\n",
        "ax.set_yticklabels([item + ' (pred)' for item in classes])\n",
        "plt.show()"
      ]
    },
    {
      "cell_type": "code",
      "execution_count": 60,
      "metadata": {
        "colab": {
          "base_uri": "https://localhost:8080/",
          "height": 627
        },
        "id": "PPTdjQxmuH2n",
        "outputId": "e8c72cb7-c8d2-429e-cb8e-72149477cc0e"
      },
      "outputs": [
        {
          "output_type": "stream",
          "name": "stdout",
          "text": [
            "|                 |   precision |   recall |   f1-score |   support |\n",
            "|:----------------|------------:|---------:|-----------:|----------:|\n",
            "| Not Pumpyy pooo |      0.9919 |   0.9762 |     0.9840 |  126.0000 |\n",
            "| Pumpy pooo      |      0.9703 |   0.9899 |     0.9800 |   99.0000 |\n",
            "| avg / total     |      0.9824 |   0.9822 |     0.9822 |  225.0000 |\n"
          ]
        },
        {
          "output_type": "display_data",
          "data": {
            "text/plain": [
              "<Figure size 720x648 with 2 Axes>"
            ],
            "image/png": "[encoded data removed]"
          },
          "metadata": {
            "needs_background": "light"
          }
        }
      ],
      "source": [
        "# TEST: MODEL\n",
        "\n",
        "y_predt = model.predict(x_test)\n",
        "y_pred_clst = np.argmax(y_predt, axis=1)\n",
        "y_truet = np.argmax(y_test, axis=1)\n",
        "conf_matt = confusion_matrix(y_truet, y_pred_clst)\n",
        "print(classification_report(y_truet, y_pred_clst))\n",
        "f, ax = plt.subplots(figsize=(10, 9))\n",
        "sns.heatmap(conf_mat, annot=True, fmt='.0f', cmap='Blues')\n",
        "ax.set_xticklabels([item + ' (true)' for item in classes])\n",
        "ax.set_yticklabels([item + ' (pred)' for item in classes])\n",
        "plt.show()"
      ]
    },
    {
      "cell_type": "markdown",
      "source": [
        "# **Модель 2**"
      ],
      "metadata": {
        "id": "yqWbKQ4Oumjo"
      }
    },
    {
      "cell_type": "code",
      "source": [
        "model1 = Sequential()\n",
        "\n",
        "model1.add(Conv2D(filters=16, kernel_size=(3,3), padding='Same', activation='relu', input_shape=(img_size, img_size,3)))\n",
        "model1.add(MaxPool2D(pool_size=(2,2)))\n",
        "model1.add(Flatten())\n",
        "model1.add(Dense(128, activation='relu'))\n",
        "model1.add(Dense(2, activation='softmax'))\n",
        "\n",
        "optimizer=Adam(learning_rate=0.001)\n",
        "model1.compile(optimizer=optimizer, loss='categorical_crossentropy', metrics=['accuracy'])\n",
        "epochs = 10\n",
        "batch_size = 32\n",
        "datagen = ImageDataGenerator(featurewise_center=False, \n",
        "                             samplewise_center=False, \n",
        "                             featurewise_std_normalization=False, \n",
        "                             samplewise_std_normalization=False, \n",
        "                             zca_whitening=False, \n",
        "                             zca_epsilon=0.000001, \n",
        "                             rotation_range=0.5, \n",
        "                             width_shift_range=0, \n",
        "                             height_shift_range=0, \n",
        "                             brightness_range=None, \n",
        "                             shear_range=0, \n",
        "                             zoom_range=0.5, \n",
        "                             channel_shift_range=0, \n",
        "                             fill_mode='nearest', \n",
        "                             cval=0, \n",
        "                             horizontal_flip=False, \n",
        "                             vertical_flip=False)\n",
        "\n",
        "datagen.fit(x_train1)\n",
        "history = model1.fit(datagen.flow(x_train1, y_train1, batch_size=batch_size), epochs=epochs, steps_per_epoch=x_train1.shape[0]//batch_size)"
      ],
      "metadata": {
        "colab": {
          "base_uri": "https://localhost:8080/"
        },
        "id": "A10ixMb-YTmf",
        "outputId": "6fb0d242-52a8-4bae-9ca6-2d0258cbb91e"
      },
      "execution_count": 61,
      "outputs": [
        {
          "output_type": "stream",
          "name": "stdout",
          "text": [
            "Epoch 1/10\n",
            "17/17 [==============================] - 1s 36ms/step - loss: 0.7771 - accuracy: 0.5638\n",
            "Epoch 2/10\n",
            "17/17 [==============================] - 1s 36ms/step - loss: 0.4206 - accuracy: 0.8410\n",
            "Epoch 3/10\n",
            "17/17 [==============================] - 1s 35ms/step - loss: 0.2291 - accuracy: 0.9409\n",
            "Epoch 4/10\n",
            "17/17 [==============================] - 1s 35ms/step - loss: 0.1647 - accuracy: 0.9519\n",
            "Epoch 5/10\n",
            "17/17 [==============================] - 1s 36ms/step - loss: 0.1257 - accuracy: 0.9667\n",
            "Epoch 6/10\n",
            "17/17 [==============================] - 1s 35ms/step - loss: 0.0939 - accuracy: 0.9778\n",
            "Epoch 7/10\n",
            "17/17 [==============================] - 1s 35ms/step - loss: 0.0845 - accuracy: 0.9760\n",
            "Epoch 8/10\n",
            "17/17 [==============================] - 1s 35ms/step - loss: 0.0551 - accuracy: 0.9852\n",
            "Epoch 9/10\n",
            "17/17 [==============================] - 1s 35ms/step - loss: 0.0486 - accuracy: 0.9852\n",
            "Epoch 10/10\n",
            "17/17 [==============================] - 1s 34ms/step - loss: 0.0688 - accuracy: 0.9797\n"
          ]
        }
      ]
    },
    {
      "cell_type": "code",
      "source": [
        "model1.summary()"
      ],
      "metadata": {
        "colab": {
          "base_uri": "https://localhost:8080/"
        },
        "id": "RIa8RUI6bn_R",
        "outputId": "7957dddb-584b-4da3-ed4f-5059150c64c3"
      },
      "execution_count": 62,
      "outputs": [
        {
          "output_type": "stream",
          "name": "stdout",
          "text": [
            "Model: \"sequential_4\"\n",
            "_________________________________________________________________\n",
            " Layer (type)                Output Shape              Param #   \n",
            "=================================================================\n",
            " conv2d_4 (Conv2D)           (None, 32, 32, 16)        448       \n",
            "                                                                 \n",
            " max_pooling2d_4 (MaxPooling  (None, 16, 16, 16)       0         \n",
            " 2D)                                                             \n",
            "                                                                 \n",
            " flatten_4 (Flatten)         (None, 4096)              0         \n",
            "                                                                 \n",
            " dense_9 (Dense)             (None, 128)               524416    \n",
            "                                                                 \n",
            " dense_10 (Dense)            (None, 2)                 258       \n",
            "                                                                 \n",
            "=================================================================\n",
            "Total params: 525,122\n",
            "Trainable params: 525,122\n",
            "Non-trainable params: 0\n",
            "_________________________________________________________________\n"
          ]
        }
      ]
    },
    {
      "cell_type": "code",
      "execution_count": 63,
      "metadata": {
        "colab": {
          "base_uri": "https://localhost:8080/",
          "height": 627
        },
        "id": "dhTMzoALuH5P",
        "outputId": "7ca4ec8e-4bc8-4c00-bd14-397fddca223c"
      },
      "outputs": [
        {
          "output_type": "stream",
          "name": "stdout",
          "text": [
            "|                 |   precision |   recall |   f1-score |   support |\n",
            "|:----------------|------------:|---------:|-----------:|----------:|\n",
            "| Not Pumpyy pooo |      0.9855 |   0.9714 |     0.9784 |   70.0000 |\n",
            "| Pumpy pooo      |      0.9733 |   0.9865 |     0.9799 |   74.0000 |\n",
            "| avg / total     |      0.9793 |   0.9792 |     0.9792 |  144.0000 |\n"
          ]
        },
        {
          "output_type": "display_data",
          "data": {
            "text/plain": [
              "<Figure size 720x648 with 2 Axes>"
            ],
            "image/png": "[encoded data removed]"
          },
          "metadata": {
            "needs_background": "light"
          }
        }
      ],
      "source": [
        "# CONTROL VALIDATION: MODEL1\n",
        "\n",
        "from google.colab import data_table\n",
        "\n",
        "y_pred = model1.predict(x_val1)\n",
        "y_pred_cls = np.argmax(y_pred, axis=1)\n",
        "y_true = np.argmax(y_val1, axis=1)\n",
        "conf_mat = confusion_matrix(y_true, y_pred_cls)\n",
        "data_table.enable_dataframe_formatter()\n",
        "print(classification_report(y_true, y_pred_cls))\n",
        "f, ax = plt.subplots(figsize=(10, 9))\n",
        "sns.heatmap(conf_mat, annot=True, fmt='.0f', cmap='Purples')\n",
        "ax.set_xticklabels([item + ' (true)' for item in classes])\n",
        "ax.set_yticklabels([item + ' (pred)' for item in classes])\n",
        "plt.show()"
      ]
    },
    {
      "cell_type": "code",
      "execution_count": 64,
      "metadata": {
        "colab": {
          "base_uri": "https://localhost:8080/",
          "height": 627
        },
        "outputId": "dbfd3748-cc62-4c44-a5ca-2da28110d396",
        "id": "pmLKaIKnnHsi"
      },
      "outputs": [
        {
          "output_type": "stream",
          "name": "stdout",
          "text": [
            "|                 |   precision |   recall |   f1-score |   support |\n",
            "|:----------------|------------:|---------:|-----------:|----------:|\n",
            "| Not Pumpyy pooo |      0.9844 |   1.0000 |     0.9921 |  126.0000 |\n",
            "| Pumpy pooo      |      1.0000 |   0.9798 |     0.9898 |   99.0000 |\n",
            "| avg / total     |      0.9912 |   0.9911 |     0.9911 |  225.0000 |\n"
          ]
        },
        {
          "output_type": "display_data",
          "data": {
            "text/plain": [
              "<Figure size 720x648 with 2 Axes>"
            ],
            "image/png": "[encoded data removed]"
          },
          "metadata": {
            "needs_background": "light"
          }
        }
      ],
      "source": [
        "# TEST: MODEL1\n",
        "\n",
        "y_predt = model1.predict(x_test)\n",
        "y_pred_clst = np.argmax(y_predt, axis=1)\n",
        "y_truet = np.argmax(y_test, axis=1)\n",
        "conf_matt = confusion_matrix(y_truet, y_pred_clst)\n",
        "print(classification_report(y_truet, y_pred_clst))\n",
        "f, ax = plt.subplots(figsize=(10, 9))\n",
        "sns.heatmap(conf_mat, annot=True, fmt='.0f', cmap='Purples')\n",
        "ax.set_xticklabels([item + ' (true)' for item in classes])\n",
        "ax.set_yticklabels([item + ' (pred)' for item in classes])\n",
        "plt.show()"
      ]
    },
    {
      "cell_type": "markdown",
      "source": [
        "# **Модель 3**"
      ],
      "metadata": {
        "id": "da2fJlwcvBbk"
      }
    },
    {
      "cell_type": "code",
      "execution_count": 65,
      "metadata": {
        "id": "-zfU6c1fJ_l3",
        "colab": {
          "base_uri": "https://localhost:8080/"
        },
        "outputId": "58130a1e-a54f-4f62-cdb2-2593bf5bd53b"
      },
      "outputs": [
        {
          "output_type": "stream",
          "name": "stdout",
          "text": [
            "Epoch 1/10\n",
            "17/17 [==============================] - 1s 32ms/step - loss: 0.6693 - accuracy: 0.5786\n",
            "Epoch 2/10\n",
            "17/17 [==============================] - 1s 34ms/step - loss: 0.4682 - accuracy: 0.8373\n",
            "Epoch 3/10\n",
            "17/17 [==============================] - 1s 33ms/step - loss: 0.2524 - accuracy: 0.9298\n",
            "Epoch 4/10\n",
            "17/17 [==============================] - 1s 34ms/step - loss: 0.1584 - accuracy: 0.9538\n",
            "Epoch 5/10\n",
            "17/17 [==============================] - 1s 33ms/step - loss: 0.1231 - accuracy: 0.9593\n",
            "Epoch 6/10\n",
            "17/17 [==============================] - 1s 33ms/step - loss: 0.1075 - accuracy: 0.9704\n",
            "Epoch 7/10\n",
            "17/17 [==============================] - 1s 32ms/step - loss: 0.0745 - accuracy: 0.9778\n",
            "Epoch 8/10\n",
            "17/17 [==============================] - 1s 33ms/step - loss: 0.0605 - accuracy: 0.9760\n",
            "Epoch 9/10\n",
            "17/17 [==============================] - 1s 32ms/step - loss: 0.0499 - accuracy: 0.9908\n",
            "Epoch 10/10\n",
            "17/17 [==============================] - 1s 33ms/step - loss: 0.0603 - accuracy: 0.9871\n"
          ]
        }
      ],
      "source": [
        "model2 = Sequential()\n",
        "\n",
        "model2.add(Conv2D(filters=16, kernel_size=(3,3), padding='Same', activation='relu', input_shape=(img_size, img_size,3)))\n",
        "model2.add(MaxPool2D(pool_size=(2,2)))\n",
        "model2.add(Flatten())\n",
        "model2.add(Dense(32, activation='relu'))\n",
        "model2.add(Dense(16))\n",
        "model2.add(Dense(2, activation='softmax'))\n",
        "\n",
        "optimizer=Adam(learning_rate=0.001)\n",
        "model2.compile(optimizer=optimizer, loss='categorical_crossentropy', metrics=['accuracy'])\n",
        "epochs = 10\n",
        "batch_size = 32\n",
        "datagen = ImageDataGenerator(featurewise_center=False, \n",
        "                             samplewise_center=False, \n",
        "                             featurewise_std_normalization=False, \n",
        "                             samplewise_std_normalization=False, \n",
        "                             zca_whitening=False, \n",
        "                             zca_epsilon=0.000001, \n",
        "                             rotation_range=0.5, \n",
        "                             width_shift_range=0, \n",
        "                             height_shift_range=0, \n",
        "                             brightness_range=None, \n",
        "                             shear_range=0, \n",
        "                             zoom_range=0.5, \n",
        "                             channel_shift_range=0, \n",
        "                             fill_mode='nearest', \n",
        "                             cval=0, \n",
        "                             horizontal_flip=False, \n",
        "                             vertical_flip=False)\n",
        "\n",
        "datagen.fit(x_train2)\n",
        "history = model2.fit(datagen.flow(x_train2, y_train2, batch_size=batch_size), epochs=epochs, steps_per_epoch=x_train2.shape[0]//batch_size)"
      ]
    },
    {
      "cell_type": "code",
      "source": [
        "model2.summary()"
      ],
      "metadata": {
        "colab": {
          "base_uri": "https://localhost:8080/"
        },
        "id": "6PJu35K0cgHS",
        "outputId": "63848e36-a528-4f85-b00b-e54eff67d672"
      },
      "execution_count": 66,
      "outputs": [
        {
          "output_type": "stream",
          "name": "stdout",
          "text": [
            "Model: \"sequential_5\"\n",
            "_________________________________________________________________\n",
            " Layer (type)                Output Shape              Param #   \n",
            "=================================================================\n",
            " conv2d_5 (Conv2D)           (None, 32, 32, 16)        448       \n",
            "                                                                 \n",
            " max_pooling2d_5 (MaxPooling  (None, 16, 16, 16)       0         \n",
            " 2D)                                                             \n",
            "                                                                 \n",
            " flatten_5 (Flatten)         (None, 4096)              0         \n",
            "                                                                 \n",
            " dense_11 (Dense)            (None, 32)                131104    \n",
            "                                                                 \n",
            " dense_12 (Dense)            (None, 16)                528       \n",
            "                                                                 \n",
            " dense_13 (Dense)            (None, 2)                 34        \n",
            "                                                                 \n",
            "=================================================================\n",
            "Total params: 132,114\n",
            "Trainable params: 132,114\n",
            "Non-trainable params: 0\n",
            "_________________________________________________________________\n"
          ]
        }
      ]
    },
    {
      "cell_type": "code",
      "execution_count": 67,
      "metadata": {
        "colab": {
          "base_uri": "https://localhost:8080/",
          "height": 627
        },
        "outputId": "f1115e57-03b4-4ac9-eee1-795dfe6278c2",
        "id": "BMhDVN77kH9T"
      },
      "outputs": [
        {
          "output_type": "stream",
          "name": "stdout",
          "text": [
            "|                 |   precision |   recall |   f1-score |   support |\n",
            "|:----------------|------------:|---------:|-----------:|----------:|\n",
            "| Not Pumpyy pooo |      0.9855 |   0.9714 |     0.9784 |   70.0000 |\n",
            "| Pumpy pooo      |      0.9733 |   0.9865 |     0.9799 |   74.0000 |\n",
            "| avg / total     |      0.9793 |   0.9792 |     0.9792 |  144.0000 |\n"
          ]
        },
        {
          "output_type": "display_data",
          "data": {
            "text/plain": [
              "<Figure size 720x648 with 2 Axes>"
            ],
            "image/png": "[encoded data removed]"
          },
          "metadata": {
            "needs_background": "light"
          }
        }
      ],
      "source": [
        "# CONTROL VALIDATION: MODEL2\n",
        "\n",
        "from google.colab import data_table\n",
        "\n",
        "y_pred2 = model2.predict(x_val2)\n",
        "y_pred_cls2 = np.argmax(y_pred, axis=1)\n",
        "y_true2 = np.argmax(y_val2, axis=1)\n",
        "conf_mat2 = confusion_matrix(y_true2, y_pred_cls2)\n",
        "data_table.enable_dataframe_formatter()\n",
        "print(classification_report(y_true2, y_pred_cls2))\n",
        "f, ax = plt.subplots(figsize=(10, 9))\n",
        "sns.heatmap(conf_mat2, annot=True, fmt='.0f', cmap='Greens')\n",
        "ax.set_xticklabels([item + ' (true)' for item in classes])\n",
        "ax.set_yticklabels([item + ' (pred)' for item in classes])\n",
        "plt.show()"
      ]
    },
    {
      "cell_type": "code",
      "execution_count": 71,
      "metadata": {
        "colab": {
          "base_uri": "https://localhost:8080/",
          "height": 632
        },
        "outputId": "3df6e054-335c-4f05-8ba9-00f8d9fd8905",
        "id": "Y6o6Vj3tnH3U"
      },
      "outputs": [
        {
          "output_type": "stream",
          "name": "stdout",
          "text": [
            "|                 |   precision |   recall |   f1-score |   support |\n",
            "|:----------------|------------:|---------:|-----------:|----------:|\n",
            "| Not Pumpyy pooo |      1.0000 |   0.8889 |     0.9412 |  126.0000 |\n",
            "| Pumpy pooo      |      0.8761 |   1.0000 |     0.9340 |   99.0000 |\n",
            "| avg / total     |      0.9455 |   0.9378 |     0.9380 |  225.0000 |\n"
          ]
        },
        {
          "output_type": "display_data",
          "data": {
            "text/plain": [
              "<Figure size 720x648 with 2 Axes>"
            ],
            "image/png": "[encoded data removed]"
          },
          "metadata": {
            "needs_background": "light"
          }
        }
      ],
      "source": [
        "# TEST: MODEL2\n",
        "\n",
        "y_predt = model2.predict(x_test)\n",
        "y_pred_clst = np.argmax(y_predt, axis=1)\n",
        "y_truet = np.argmax(y_test, axis=1)\n",
        "conf_matt = confusion_matrix(y_truet, y_pred_clst)\n",
        "print(classification_report(y_truet, y_pred_clst))\n",
        "f, ax = plt.subplots(figsize=(10, 9))\n",
        "sns.heatmap(conf_mat, annot=True, fmt='.0f', cmap='Greens')\n",
        "ax.set_xticklabels([item + ' (true)' for item in classes])\n",
        "ax.set_yticklabels([item + ' (pred)' for item in classes])\n",
        "plt.show()"
      ]
    },
    {
      "cell_type": "code",
      "execution_count": null,
      "metadata": {
        "id": "fhmhAqeI7Hlq"
      },
      "outputs": [],
      "source": [
        "# os.remove('/content/drive/MyDrive/steven/Стивен из вселенной Стивена и международная космическая станция/Стивен из вселенной Стивена/Screenshot_520.png')"
      ]
    },
    {
      "cell_type": "code",
      "source": [
        "print(type(x_test))"
      ],
      "metadata": {
        "colab": {
          "base_uri": "https://localhost:8080/"
        },
        "id": "MHTtKMGKjYdQ",
        "outputId": "3a499745-8f19-4386-98f5-74f53ffb4942"
      },
      "execution_count": 72,
      "outputs": [
        {
          "output_type": "stream",
          "name": "stdout",
          "text": [
            "<class 'numpy.ndarray'>\n"
          ]
        }
      ]
    },
    {
      "cell_type": "markdown",
      "source": [
        "# **Единичное предсказание по ссылке**"
      ],
      "metadata": {
        "id": "OscEz9SAvOC2"
      }
    },
    {
      "cell_type": "markdown",
      "source": [
        "*   Было упомянуто, что если что-то будет не так, то будете выборочную фотку по ссылке загружать в predict. Не знаем требовалось ли это делать, но теперь можно вставить через predict ссылку на картинку. Примеры на которых работало в комментариях. Не работало только с картинками, которые по видимому были заблокированы для такой операции (по нашему мнению, может ошибаемся).\n",
        "*   Убрали отчёт, потому что слишком круто для одной картинки. "
      ],
      "metadata": {
        "id": "CbU-073-iJME"
      }
    },
    {
      "cell_type": "code",
      "source": [
        "# A NEW ONE PREDICT\n",
        "\n",
        "@dispatch(str, str, Sequential)\n",
        "def predict(link, class_name, model):\n",
        "    global img_size\n",
        "    global true\n",
        "    \n",
        "    true = class_name\n",
        "    fd = urlopen(link)\n",
        "\n",
        "    image_file = io.BytesIO(fd.read())\n",
        "    img = Image.open(image_file)\n",
        "    img_arr = np.array(img)\n",
        "    img_arr[20,30]\n",
        "    plt.axis('off')\n",
        "\n",
        "\n",
        "    img_arr = cv2.resize(img_arr, dsize=(img_size, img_size))\n",
        "\n",
        "    plt.imshow(img_arr)  # debag\n",
        "    \n",
        "    # plt.savefig(\"/content/drive/MyDrive/steven/Стивен из вселенной Стивена и международная космическая станция/Стивен из вселенной Стивена/Screenshot_520.png\")\n",
        "\n",
        "\n",
        "    img_arr = img_arr.reshape(-1, img_size, img_size, 3)\n",
        "    img_arr = img_arr/255\n",
        "\n",
        "    return model.predict(img_arr)\n",
        "@dispatch(ndarray)\n",
        "def predict(link, class_name, model):\n",
        "    return "
      ],
      "metadata": {
        "id": "s55rEMvFbiGl"
      },
      "execution_count": 69,
      "outputs": []
    },
    {
      "cell_type": "markdown",
      "source": [
        "**Пояснение к использованию:**\n",
        "\n",
        "\n",
        "---\n",
        "\n",
        "Вставлять ссылку вместо уже вставленной как пример ссылки. \n",
        "\n",
        "Вторым параметром служит класс изображения на данной картинке. Он будет использоваться как верное значение, с которым будет сравниваться наше предсказание. Названия класса примлемы только в виде 'Steven' и 'ISS'. \n",
        "\n",
        "Третьим параметром вводится имя обущенной модели, которую мы будем использовать."
      ],
      "metadata": {
        "id": "WNCXLdNjZvFX"
      }
    },
    {
      "cell_type": "code",
      "execution_count": 70,
      "metadata": {
        "colab": {
          "base_uri": "https://localhost:8080/",
          "height": 808
        },
        "id": "nCE4kDH63Euj",
        "outputId": "623c6479-f38b-41fd-b121-cd7a8f76bb24"
      },
      "outputs": [
        {
          "output_type": "stream",
          "name": "stdout",
          "text": [
            "Predict: its Pumpy pooo\n",
            "Probability is: 99.99600219726562%\n"
          ]
        },
        {
          "output_type": "display_data",
          "data": {
            "text/plain": [
              "<Figure size 432x288 with 1 Axes>"
            ],
            "image/png": "[encoded data removed]"
          },
          "metadata": {
            "needs_background": "light"
          }
        },
        {
          "output_type": "display_data",
          "data": {
            "text/plain": [
              "<Figure size 720x648 with 2 Axes>"
            ],
            "image/png": "[encoded data removed]"
          },
          "metadata": {
            "needs_background": "light"
          }
        }
      ],
      "source": [
        "# URL IMAGE WORK ON MODEL\n",
        "\n",
        "# Pumpy pooo\n",
        "# https://c-cl.cdn.smule.com/rs-s87/arr/f8/65/e4b2a575-fbf4-4611-8f10-643c4b94bac6.jpg\n",
        "# https://media.myshows.me/shows/1920/c/19/c19d86c712121a60f9ad75979d5860f7.jpg\n",
        "# https://slovnet.ru/wp-content/uploads/2018/08/1-29.jpg  # dark bg\n",
        "\n",
        "# Not Pumpyy pooo\n",
        "# https://cdni.russiatoday.com/rbthmedia/images/2020.12/article/5feb853a85600a4a470fb151.jpg \n",
        "\n",
        "true = str\n",
        "\n",
        "y_pred = predict(\"https://c-cl.cdn.smule.com/rs-s87/arr/f8/65/e4b2a575-fbf4-4611-8f10-643c4b94bac6.jpg \", 'Steven', model)\n",
        "y_pred_cls = np.argmax(y_pred, axis=1)\n",
        "\n",
        "if true == 'Steven':\n",
        "    y_true = [1] \n",
        "elif true == 'ISS':\n",
        "    y_true = [0]\n",
        "if y_true == y_pred_cls:\n",
        "    print(f'Predict: its {classes[y_pred_cls[0]]}')\n",
        "    print(f'Probability is: {round(np.amax([item * 100 for item in y_pred]), 3)}%')\n",
        "else:\n",
        "    print(f'Error. Its not {true}')\n",
        "    print(\"y_pred = \", y_pred * 100)\n",
        "\n",
        "conf_mat = confusion_matrix(y_true, y_pred_cls, labels=[0, 1])\n",
        "f, ax = plt.subplots(figsize=(10, 9))\n",
        "sns.heatmap(conf_mat, annot=True, fmt='.0f', cmap='Reds')\n",
        "ax.set_xticklabels([item + ' (true)' for item in classes])\n",
        "ax.set_yticklabels([item + ' (pred)' for item in classes])\n",
        "plt.show()"
      ]
    }
  ],
  "metadata": {
    "colab": {
      "collapsed_sections": [],
      "name": "ISSvsSteven.ipynb",
      "provenance": [],
      "authorship_tag": "ABX9TyMmR9rBwuC/CLYwViHN351f",
      "include_colab_link": true
    },
    "kernelspec": {
      "display_name": "Python 3",
      "name": "python3"
    },
    "language_info": {
      "name": "python"
    }
  },
  "nbformat": 4,
  "nbformat_minor": 0
}