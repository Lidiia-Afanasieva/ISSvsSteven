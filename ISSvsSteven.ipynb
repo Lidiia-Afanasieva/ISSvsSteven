{
  "cells": [
    {
      "cell_type": "markdown",
      "metadata": {
        "id": "view-in-github",
        "colab_type": "text"
      },
      "source": [
        "<a href=\"https://colab.research.google.com/github/Lidiia-Afanasieva/ISSvsSteven/blob/main/ISSvsSteven.ipynb\" target=\"_parent\"><img src=\"https://colab.research.google.com/assets/colab-badge.svg\" alt=\"Open In Colab\"/></a>"
      ]
    },
    {
      "cell_type": "code",
      "execution_count": 1,
      "metadata": {
        "colab": {
          "base_uri": "https://localhost:8080/"
        },
        "id": "FJGvC9fIGcaK",
        "outputId": "383cb1d2-fe5d-413e-86c7-0b22b1893067"
      },
      "outputs": [
        {
          "output_type": "stream",
          "name": "stdout",
          "text": [
            "Mounted at /content/drive\n"
          ]
        }
      ],
      "source": [
        "from google.colab import drive\n",
        "drive.mount('/content/drive')"
      ]
    },
    {
      "cell_type": "code",
      "source": [
        "pip install multipledispatch"
      ],
      "metadata": {
        "colab": {
          "base_uri": "https://localhost:8080/"
        },
        "id": "dQRARB7RVfyv",
        "outputId": "9218a9d9-5841-429e-92ad-a9deaef076cd"
      },
      "execution_count": 35,
      "outputs": [
        {
          "output_type": "stream",
          "name": "stdout",
          "text": [
            "\u001b[31mERROR: Could not find a version that satisfies the requirement itertools (from versions: none)\u001b[0m\n",
            "\u001b[31mERROR: No matching distribution found for itertools\u001b[0m\n"
          ]
        }
      ]
    },
    {
      "cell_type": "code",
      "execution_count": 53,
      "metadata": {
        "id": "6V0_lPAFHeH8"
      },
      "outputs": [],
      "source": [
        "# TensorFlow and tf.keras\n",
        "import tensorflow as tf\n",
        "from PIL import Image\n",
        "import os\n",
        "from urllib.request import urlopen\n",
        "import io\n",
        "import seaborn as sns\n",
        "import random\n",
        "\n",
        "# Helper libraries\n",
        "from IPython.core.pylabtools import figsize\n",
        "from tensorflow.keras.utils import to_categorical\n",
        "import numpy as np\n",
        "import matplotlib.pyplot as plt\n",
        "import cv2\n",
        "import pandas as pd\n",
        "import seaborn as sn\n",
        "\n",
        "from sklearn.metrics import confusion_matrix\n",
        "from sklearn.metrics import classification_report\n",
        "from multipledispatch import dispatch\n",
        "import itertools\n",
        "from sklearn.model_selection import train_test_split\n",
        "from keras.utils.np_utils import to_categorical\n",
        "from keras.models import Sequential \n",
        "from keras.layers import Dense, Dropout, Flatten, Conv2D, MaxPool2D, Activation\n",
        "from tensorflow.keras.optimizers import Adam\n",
        "from keras.preprocessing.image import ImageDataGenerator\n",
        "from keras.callbacks import ReduceLROnPlateau\n",
        "\n",
        "from urllib.error import HTTPError\n",
        "import sys"
      ]
    },
    {
      "cell_type": "code",
      "source": [
        "def classification_report(y_true, y_pred, labels=None, \n",
        "                          target_names=['Not Pumpyy pooo', 'Pumpy pooo'],\n",
        "                          sample_weight=None, digits=4, tablfmt='pipe'):\n",
        "    \"\"\"  Better format for sklearn's classification report\n",
        "    Based on tabulate package\n",
        "    ----------\n",
        "    y_true : 1d array-like, or label indicator array / sparse matrix\n",
        "        Ground truth (correct) target values.\n",
        "    y_pred : 1d array-like, or label indicator array / sparse matrix\n",
        "        Estimated targets as returned by a classifier.\n",
        "    labels : array, shape = [n_labels]\n",
        "        Optional list of label indices to include in the report.\n",
        "    target_names : list of strings\n",
        "        Optional display names matching the labels (same order).\n",
        "    sample_weight : array-like of shape = [n_samples], optional\n",
        "        Sample weights.\n",
        "    digits : int\n",
        "        Number of digits for formatting output floating point values\n",
        "    Returns\n",
        "    -------\n",
        "    report : string\n",
        "        Text summary of the precision, recall, F1 score for each class.\n",
        "        The reported averages are a prevalence-weighted macro-average across\n",
        "        classes (equivalent to :func:`precision_recall_fscore_support` with\n",
        "        ``average='weighted'``).\n",
        "        Note that in binary classification, recall of the positive class\n",
        "        is also known as \"sensitivity\"; recall of the negative class is\n",
        "        \"specificity\".\n",
        "    Examples\n",
        "    --------\n",
        "    >>> from sklearn.metrics import classification_report\n",
        "    >>> y_true = [0, 1, 2, 2, 2]\n",
        "    >>> y_pred = [0, 0, 2, 2, 1]\n",
        "    >>> target_names = ['class 0', 'class 1', 'class 2']\n",
        "    >>> print(classification_report(y_true, y_pred, target_names=target_names))\n",
        "                 precision    recall  f1-score   support\n",
        "    \"\"\"\n",
        "    floatfmt = '.{:}f'.format(digits)\n",
        "    if labels is None:\n",
        "        labels = unique_labels(y_true, y_pred)\n",
        "    else:\n",
        "        labels = np.asarray(labels)\n",
        "\n",
        "    if target_names is not None and len(labels) != len(target_names):\n",
        "        print(\n",
        "            \"labels size, {0}, does not match size of target_names, {1}\"\n",
        "            .format(len(labels), len(target_names))\n",
        "        )\n",
        "\n",
        "    last_line_heading = 'avg / total'\n",
        "\n",
        "    if target_names is None:\n",
        "        target_names = [u'%s' % l for l in labels]\n",
        "\n",
        "    headers = [\"precision\", \"recall\", \"f1-score\", \"support\"]\n",
        "\n",
        "    p, r, f1, s = precision_recall_fscore_support(y_true, y_pred,\n",
        "                                                  labels=labels,\n",
        "                                                  average=None,\n",
        "                                                  sample_weight=sample_weight)\n",
        "\n",
        "    rows = zip(target_names, p, r, f1, s)\n",
        "    tbl_rows = []\n",
        "    for row in rows:\n",
        "        tbl_rows.append(row)\n",
        "\n",
        "    # compute averages\n",
        "    last_row = (last_line_heading,\n",
        "                np.average(p, weights=s),\n",
        "                np.average(r, weights=s),\n",
        "                np.average(f1, weights=s),\n",
        "                np.sum(s))\n",
        "    tbl_rows.append(last_row)\n",
        "    return tabulate(tbl_rows, headers=headers,\n",
        "                    tablefmt=tablfmt, floatfmt=floatfmt)"
      ],
      "metadata": {
        "id": "GymrVYtqp_lK"
      },
      "execution_count": 71,
      "outputs": []
    },
    {
      "cell_type": "code",
      "source": [
        "# TO SHOW IMAGE\n",
        "\n",
        "@dispatch(list)\n",
        "def magick(steeevaaa):\n",
        "    global classes\n",
        "    \n",
        "    plt.figure(figsize=(8,8))\n",
        "    plt.imshow(steeevaaa[0])\n",
        "    plt.axis('off')"
      ],
      "metadata": {
        "id": "g28907QeTbt-"
      },
      "execution_count": 5,
      "outputs": []
    },
    {
      "cell_type": "code",
      "execution_count": 6,
      "metadata": {
        "id": "yWXG8NgBHeFz"
      },
      "outputs": [],
      "source": [
        "# TO SHOW IMAGES PAIR\n",
        "\n",
        "@dispatch(list, list)\n",
        "def magick(steeevaaa, issaaaa):\n",
        "    global classes\n",
        "    \n",
        "    plt.figure(figsize=(8,8))\n",
        "\n",
        "    for j, i in enumerate([steeevaaa, issaaaa]):\n",
        "        plt.subplot(1, 2, j + 1)\n",
        "        plt.title(classes[i[1]])\n",
        "        plt.imshow(i[0])\n",
        "        plt.axis('off')"
      ]
    },
    {
      "cell_type": "code",
      "execution_count": 7,
      "metadata": {
        "id": "lMcU4M-NHeCL"
      },
      "outputs": [],
      "source": [
        "# TO DOWNLOAD DATASET AND CHANGE SIZE\n",
        "\n",
        "def download_set(data_path, class_name):\n",
        "    global img_size\n",
        "    only_img_list = []\n",
        "\n",
        "    for img in os.listdir(data_path):\n",
        "        img_arr =  cv2.imread(os.path.join(data_path, str(img)))\n",
        "        # color channel conversion and circumcision))\n",
        "        img_arr = cv2.cvtColor(cv2.resize(img_arr, dsize=(img_size, img_size)), cv2.COLOR_BGR2RGB)\n",
        "        only_img_list.append(img_arr)\n",
        "\n",
        "    return only_img_list"
      ]
    },
    {
      "cell_type": "code",
      "execution_count": 6,
      "metadata": {
        "id": "RfZsT35-abQV"
      },
      "outputs": [],
      "source": [
        "img_size = 8"
      ]
    },
    {
      "cell_type": "code",
      "execution_count": 8,
      "metadata": {
        "colab": {
          "base_uri": "https://localhost:8080/",
          "height": 322
        },
        "id": "k7hTwoXSHd_y",
        "outputId": "cdec696c-38f1-4f62-eeaa-4be202f642ea"
      },
      "outputs": [
        {
          "output_type": "stream",
          "name": "stdout",
          "text": [
            "/content/drive/MyDrive/steven/Стивен из вселенной Стивена и международная космическая станция/MKC\n",
            "602 0\n",
            "/content/drive/MyDrive/steven/Стивен из вселенной Стивена и международная космическая станция/Стивен из вселенной Стивена\n",
            "520 1\n"
          ]
        },
        {
          "output_type": "display_data",
          "data": {
            "text/plain": [
              "<Figure size 576x576 with 2 Axes>"
            ],
            "image/png": "[encoded data removed]"
          },
          "metadata": {
            "needs_background": "light"
          }
        }
      ],
      "source": [
        "# FULL DATASET\n",
        "\n",
        "full_ISS_dir = \"/content/drive/MyDrive/steven/Стивен из вселенной Стивена и международная космическая станция/MKC\"  # 602\n",
        "full_Steven_dir = \"/content/drive/MyDrive/steven/Стивен из вселенной Стивена и международная космическая станция/Стивен из вселенной Стивена\"  # 520\n",
        "\n",
        "directory = [full_ISS_dir, full_Steven_dir]\n",
        "\n",
        "classes = ['Not Pumpyy pooo', 'Pumpy pooo']\n",
        "\n",
        "full_img_list = []\n",
        "full_base = []\n",
        "\n",
        "img_size = 32\n",
        "\n",
        "train_base = []\n",
        "test_base = []\n",
        "temp_arr = []\n",
        "\n",
        "only_img_list_tr = []\n",
        "only_img_list_tt = []\n",
        "\n",
        "for d_set_path in directory:\n",
        "    print(d_set_path)  # debag\n",
        "    os.chdir(d_set_path)\n",
        "    current_class = 0 if '/MKC' in d_set_path else 1\n",
        "    full_img_list.extend(download_set(os.getcwd(), current_class))\n",
        "    temp_arr = download_set(os.getcwd(), current_class)\n",
        "    print(len(temp_arr), current_class)  # debag\n",
        "    full_base.extend([[i, current_class] for i in temp_arr])\n",
        "\n",
        "magick(full_base[800], full_base[4])"
      ]
    },
    {
      "cell_type": "code",
      "source": [
        "magick(full_base[800])\n",
        "# plt.savefig(\"/content/drive/MyDrive/CoolSteven.png\")"
      ],
      "metadata": {
        "colab": {
          "base_uri": "https://localhost:8080/",
          "height": 466
        },
        "id": "dQutyq4QS9Ow",
        "outputId": "9e391536-b405-49ed-e361-6c9b61dbad07"
      },
      "execution_count": 9,
      "outputs": [
        {
          "output_type": "display_data",
          "data": {
            "text/plain": [
              "<Figure size 576x576 with 1 Axes>"
            ],
            "image/png": "[encoded data removed]"
          },
          "metadata": {
            "needs_background": "light"
          }
        }
      ]
    },
    {
      "cell_type": "code",
      "execution_count": null,
      "metadata": {
        "colab": {
          "base_uri": "https://localhost:8080/"
        },
        "id": "4SxAL3EWRra_",
        "outputId": "a1ca6e15-803c-47ec-ff73-a3a951524c28"
      },
      "outputs": [
        {
          "name": "stdout",
          "output_type": "stream",
          "text": [
            "<class 'numpy.ndarray'>\n"
          ]
        }
      ],
      "source": [
        "print(type(full_base[0][0]))"
      ]
    },
    {
      "cell_type": "code",
      "execution_count": 10,
      "metadata": {
        "colab": {
          "base_uri": "https://localhost:8080/"
        },
        "id": "h3Rcoyewd2d-",
        "outputId": "b869dbe2-6233-4a98-fb00-c79ad027cb32"
      },
      "outputs": [
        {
          "output_type": "stream",
          "name": "stdout",
          "text": [
            "x_train shape is : (717, 32, 32, 3)\n",
            "x_test shape is : (225, 32, 32, 3)\n",
            "y_train shape is : (717, 2)\n"
          ]
        }
      ],
      "source": [
        "# BUILDING A RIGHT ARRAY MODE\n",
        "\n",
        "random.shuffle(full_base)\n",
        "\n",
        "x_full = []\n",
        "y_full = []\n",
        "\n",
        "x_train = []\n",
        "y_train = []\n",
        "\n",
        "x_test = []\n",
        "y_test = []\n",
        "\n",
        "for img, cls in full_base:\n",
        "    x_full.append(img)\n",
        "    y_full.append(cls)\n",
        "\n",
        "x_train, x_test, y_train, y_test = train_test_split(x_full, y_full, test_size=0.2, random_state=42, shuffle=True)\n",
        "x_train, x_val, y_train, y_val = train_test_split(x_train, y_train, test_size=0.2, random_state=42, shuffle=True)\n",
        "\n",
        "x_train = np.array(x_train)\n",
        "x_test = np.array(x_test)\n",
        "\n",
        "x_train = x_train.reshape(-1, img_size, img_size, 3)\n",
        "x_train = x_train/255\n",
        "\n",
        "x_test = x_test.reshape(-1, img_size, img_size, 3)\n",
        "x_test = x_test/255\n",
        "\n",
        "print(f'x_train shape is : {x_train.shape}')  # debag\n",
        "print(f'x_test shape is : {x_test.shape}')  # debag\n",
        "\n",
        "y_train = to_categorical(y_train, num_classes=2)\n",
        "print(f'y_train shape is : {y_train.shape}')  # debag\n",
        "\n",
        "y_test = to_categorical(y_test, num_classes = 2)"
      ]
    },
    {
      "cell_type": "code",
      "execution_count": 13,
      "metadata": {
        "colab": {
          "base_uri": "https://localhost:8080/"
        },
        "id": "uOKM4eBQuH7f",
        "outputId": "7264ec60-047e-49b5-8ba6-523795622f01"
      },
      "outputs": [
        {
          "output_type": "stream",
          "name": "stdout",
          "text": [
            "x_train is : 366\n",
            "x_val is : 92\n",
            "y_train is : 366\n",
            "y_val is : 92\n",
            "Epoch 1/10\n",
            "11/11 [==============================] - 1s 44ms/step - loss: 0.7875 - accuracy: 0.6018\n",
            "Epoch 2/10\n",
            "11/11 [==============================] - 0s 41ms/step - loss: 0.4765 - accuracy: 0.7695\n",
            "Epoch 3/10\n",
            "11/11 [==============================] - 0s 42ms/step - loss: 0.3361 - accuracy: 0.8443\n",
            "Epoch 4/10\n",
            "11/11 [==============================] - 0s 43ms/step - loss: 0.2276 - accuracy: 0.9102\n",
            "Epoch 5/10\n",
            "11/11 [==============================] - 0s 45ms/step - loss: 0.1562 - accuracy: 0.9641\n",
            "Epoch 6/10\n",
            "11/11 [==============================] - 0s 42ms/step - loss: 0.1233 - accuracy: 0.9551\n",
            "Epoch 7/10\n",
            "11/11 [==============================] - 0s 42ms/step - loss: 0.1369 - accuracy: 0.9491\n",
            "Epoch 8/10\n",
            "11/11 [==============================] - 0s 41ms/step - loss: 0.1019 - accuracy: 0.9611\n",
            "Epoch 9/10\n",
            "11/11 [==============================] - 0s 43ms/step - loss: 0.0863 - accuracy: 0.9760\n",
            "Epoch 10/10\n",
            "11/11 [==============================] - 0s 42ms/step - loss: 0.0682 - accuracy: 0.9880\n"
          ]
        }
      ],
      "source": [
        "# THE COOOOLEST CODE IN THE WORLD\n",
        "# COUSE ITS WORKING\n",
        "# ACTUALLY ITS BUILD NN ARCHITECTURE AND OPTIMISE IT WITH ADAM\n",
        "\n",
        "x_train, x_val, y_train, y_val = train_test_split(x_train, y_train, test_size=0.2, random_state=42, shuffle=True)\n",
        "print(f'x_train is : {len(x_train)}')  # debag\n",
        "print(f'x_val is : {len(x_val)}')  # debag\n",
        "print(f'y_train is : {len(y_train)}')  # debag\n",
        "print(f'y_val is : {len(y_val)}')  # debag\n",
        "\n",
        "model = Sequential()\n",
        "\n",
        "model.add(Conv2D(filters=16, kernel_size=(5,5), padding='Same', activation='relu', input_shape=(img_size, img_size,3)))\n",
        "model.add(MaxPool2D(pool_size=(2,2)))\n",
        "model.add(Flatten())\n",
        "model.add(Dense(128, activation='relu'))\n",
        "model.add(Dense(2, activation='softmax'))\n",
        "\n",
        "optimizer=Adam(learning_rate=0.001)\n",
        "model.compile(optimizer=optimizer, loss='categorical_crossentropy', metrics=['accuracy'])\n",
        "epochs = 10\n",
        "batch_size = 32\n",
        "datagen = ImageDataGenerator(featurewise_center=False, \n",
        "                             samplewise_center=False, \n",
        "                             featurewise_std_normalization=False, \n",
        "                             samplewise_std_normalization=False, \n",
        "                             zca_whitening=False, \n",
        "                             zca_epsilon=0.000001, \n",
        "                             rotation_range=0.5, \n",
        "                             width_shift_range=0, \n",
        "                             height_shift_range=0, \n",
        "                             brightness_range=None, \n",
        "                             shear_range=0, \n",
        "                             zoom_range=0.5, \n",
        "                             channel_shift_range=0, \n",
        "                             fill_mode='nearest', \n",
        "                             cval=0, \n",
        "                             horizontal_flip=False, \n",
        "                             vertical_flip=False)\n",
        "\n",
        "datagen.fit(x_train)\n",
        "history = model.fit(datagen.flow(x_train, y_train, batch_size=batch_size), epochs=epochs, steps_per_epoch=x_train.shape[0]//batch_size)"
      ]
    },
    {
      "cell_type": "code",
      "execution_count": null,
      "metadata": {
        "id": "FpyO737nJ-FM"
      },
      "outputs": [],
      "source": [
        ""
      ]
    },
    {
      "cell_type": "code",
      "execution_count": null,
      "metadata": {
        "id": "-zfU6c1fJ_l3"
      },
      "outputs": [],
      "source": [
        "# NOT THE COOOOLEST CODE IN THE WORLD\n",
        "\n",
        "x_train, x_val, y_train, y_val = train_test_split(x_train, y_train, test_size=0.2, random_state=42, shuffle=True)\n",
        "print(f'x_train is : {len(x_train)}')  # debag\n",
        "print(f'x_val is : {len(x_val)}')  # debag\n",
        "print(f'y_train is : {len(y_train)}')  # debag\n",
        "print(f'y_val is : {len(y_val)}')  # debag\n",
        "\n",
        "model = Sequential()\n",
        "\n",
        "model.add(Conv2D(filters=32, kernel_size=(3,3), padding='Same', activation='relu', input_shape=(img_size, img_size,3)))\n",
        "model.add(MaxPool2D(pool_size=(2,2)))\n",
        "model.add(Flatten())\n",
        "model.add(Dense(32, activation='relu'))\n",
        "model.add(Dense(32))\n",
        "model.add(Dense(32))\n",
        "model.add(Dense(2, activation='softmax'))\n",
        "\n",
        "optimizer=Adam(learning_rate=0.001)\n",
        "model.compile(optimizer=optimizer, loss='categorical_crossentropy', metrics=['accuracy'])\n",
        "epochs = 15\n",
        "batch_size = 32\n",
        "datagen = ImageDataGenerator(featurewise_center=False, \n",
        "                             samplewise_center=False, \n",
        "                             featurewise_std_normalization=False, \n",
        "                             samplewise_std_normalization=False, \n",
        "                             zca_whitening=False, \n",
        "                             zca_epsilon=0.000001, \n",
        "                             rotation_range=0.5, \n",
        "                             width_shift_range=0, \n",
        "                             height_shift_range=0, \n",
        "                             brightness_range=None, \n",
        "                             shear_range=0, \n",
        "                             zoom_range=0.5, \n",
        "                             channel_shift_range=0, \n",
        "                             fill_mode='nearest', \n",
        "                             cval=0, \n",
        "                             horizontal_flip=False, \n",
        "                             vertical_flip=False)\n",
        "\n",
        "datagen.fit(x_train)\n",
        "history = model.fit(datagen.flow(x_train, y_train, batch_size=batch_size), epochs=epochs, steps_per_epoch=x_train.shape[0]//batch_size)"
      ]
    },
    {
      "cell_type": "code",
      "execution_count": 73,
      "metadata": {
        "colab": {
          "base_uri": "https://localhost:8080/",
          "height": 626
        },
        "id": "dhTMzoALuH5P",
        "outputId": "ab45689a-47b7-4683-8b80-3ca4f45d6281"
      },
      "outputs": [
        {
          "output_type": "stream",
          "name": "stdout",
          "text": [
            "|                 |   precision |   recall |   f1-score |   support |\n",
            "|:----------------|------------:|---------:|-----------:|----------:|\n",
            "| Not Pumpyy pooo |      0.9800 |   0.9608 |     0.9703 |   51.0000 |\n",
            "| Pumpy pooo      |      0.9524 |   0.9756 |     0.9639 |   41.0000 |\n",
            "| avg / total     |      0.9677 |   0.9674 |     0.9674 |   92.0000 |\n"
          ]
        },
        {
          "output_type": "display_data",
          "data": {
            "text/plain": [
              "<Figure size 720x648 with 2 Axes>"
            ],
            "image/png": "[encoded data removed]"
          },
          "metadata": {
            "needs_background": "light"
          }
        }
      ],
      "source": [
        "# CONTROL VALIDATION\n",
        "\n",
        "from google.colab import data_table\n",
        "\n",
        "y_pred = model.predict(x_val)\n",
        "y_pred_cls = np.argmax(y_pred, axis=1)\n",
        "y_true = np.argmax(y_val, axis=1)\n",
        "conf_mat = confusion_matrix(y_true, y_pred_cls)\n",
        "data_table.enable_dataframe_formatter()\n",
        "print(classification_report(y_true, y_pred_cls))\n",
        "f, ax = plt.subplots(figsize=(10, 9))\n",
        "sns.heatmap(conf_mat, annot=True, fmt='.0f', cmap='Purples')\n",
        "ax.set_xticklabels([item + ' (true)' for item in classes])\n",
        "ax.set_yticklabels([item + ' (pred)' for item in classes])\n",
        "# df_cm = pd.DataFrame(array, index = [item + ' (true)' for item in classes], columns = [item + ' (pred)' for item in classes])\n",
        "# sn.heatmap(df_cm, annot=True,cmap=\"OrRd\")\n",
        "plt.show()"
      ]
    },
    {
      "cell_type": "code",
      "execution_count": 74,
      "metadata": {
        "colab": {
          "base_uri": "https://localhost:8080/",
          "height": 626
        },
        "id": "PPTdjQxmuH2n",
        "outputId": "e233c188-3586-4783-f8f5-338141c70a64"
      },
      "outputs": [
        {
          "output_type": "stream",
          "name": "stdout",
          "text": [
            "|                 |   precision |   recall |   f1-score |   support |\n",
            "|:----------------|------------:|---------:|-----------:|----------:|\n",
            "| Not Pumpyy pooo |      0.9841 |   0.9841 |     0.9841 |  126.0000 |\n",
            "| Pumpy pooo      |      0.9798 |   0.9798 |     0.9798 |   99.0000 |\n",
            "| avg / total     |      0.9822 |   0.9822 |     0.9822 |  225.0000 |\n"
          ]
        },
        {
          "output_type": "display_data",
          "data": {
            "text/plain": [
              "<Figure size 720x648 with 2 Axes>"
            ],
            "image/png": "[encoded data removed]"
          },
          "metadata": {
            "needs_background": "light"
          }
        }
      ],
      "source": [
        "# TEST\n",
        "\n",
        "y_pred2 = model.predict(x_test)\n",
        "y_pred_cls2 = np.argmax(y_pred2, axis=1)\n",
        "y_true2 = np.argmax(y_test, axis=1)\n",
        "conf_mat2 = confusion_matrix(y_true2, y_pred_cls2)\n",
        "print(classification_report(y_true2, y_pred_cls2))\n",
        "f, ax = plt.subplots(figsize=(10, 9))\n",
        "sns.heatmap(conf_mat2, annot=True, fmt='.0f', cmap='Blues')\n",
        "ax.set_xticklabels([item + ' (true)' for item in classes])\n",
        "ax.set_yticklabels([item + ' (pred)' for item in classes])\n",
        "plt.show()"
      ]
    },
    {
      "cell_type": "code",
      "execution_count": null,
      "metadata": {
        "id": "fhmhAqeI7Hlq"
      },
      "outputs": [],
      "source": [
        "# os.remove('/content/drive/MyDrive/steven/Стивен из вселенной Стивена и международная космическая станция/Стивен из вселенной Стивена/Screenshot_520.png')"
      ]
    },
    {
      "cell_type": "code",
      "source": [
        "from sklearn.metrics import precision_recall_fscore_support\n",
        "from sklearn.utils.multiclass import unique_labels\n",
        "import numpy as np\n",
        "from tabulate import tabulate\n"
      ],
      "metadata": {
        "id": "D6n5h4nFvp9R"
      },
      "execution_count": 44,
      "outputs": []
    },
    {
      "cell_type": "code",
      "execution_count": 69,
      "metadata": {
        "colab": {
          "base_uri": "https://localhost:8080/",
          "height": 826
        },
        "id": "nCE4kDH63Euj",
        "outputId": "c4ae58b4-0b6c-4a5f-e5a3-a144825906ca"
      },
      "outputs": [
        {
          "output_type": "stream",
          "name": "stdout",
          "text": [
            "Predict: its Pumpy pooo\n",
            "Probability is: 99.83300018310547%\n"
          ]
        },
        {
          "output_type": "display_data",
          "data": {
            "text/plain": [
              "<Figure size 432x288 with 1 Axes>"
            ],
            "image/png": "[encoded data removed]"
          },
          "metadata": {
            "needs_background": "light"
          }
        },
        {
          "output_type": "display_data",
          "data": {
            "text/plain": [
              "<Figure size 720x648 with 2 Axes>"
            ],
            "image/png": "[encoded data removed]"
          },
          "metadata": {
            "needs_background": "light"
          }
        },
        {
          "output_type": "stream",
          "name": "stdout",
          "text": [
            "[[0.0016725  0.99832755]]\n"
          ]
        }
      ],
      "source": [
        "# URL IMAGE WORK\n",
        "\n",
        "# Pumpy pooo\n",
        "# https://c-cl.cdn.smule.com/rs-s87/arr/f8/65/e4b2a575-fbf4-4611-8f10-643c4b94bac6.jpg\n",
        "# https://media.myshows.me/shows/1920/c/19/c19d86c712121a60f9ad75979d5860f7.jpg\n",
        "# https://slovnet.ru/wp-content/uploads/2018/08/1-29.jpg  # dark bg\n",
        "\n",
        "# Not Pumpyy pooo\n",
        "# https://cdni.russiatoday.com/rbthmedia/images/2020.12/article/5feb853a85600a4a470fb151.jpg \n",
        "\n",
        "\n",
        "def get_check():\n",
        "    global img_size\n",
        "\n",
        "    fd = urlopen(\"https://c-cl.cdn.smule.com/rs-s87/arr/f8/65/e4b2a575-fbf4-4611-8f10-643c4b94bac6.jpg\")\n",
        "\n",
        "    # print(type(fd))  # debag\n",
        "    image_file = io.BytesIO(fd.read())\n",
        "    img = Image.open(image_file)\n",
        "    img_arr = np.array(img)\n",
        "    img_arr[20,30]\n",
        "    plt.axis('off')\n",
        "    # \n",
        "\n",
        "    # print(img_arr.shape)  # debag\n",
        "\n",
        "    img_arr = cv2.resize(img_arr, dsize=(img_size, img_size))\n",
        "\n",
        "    # print(img_arr.shape)  # debag\n",
        "    # print(img_arr[0])  # debag\n",
        "    plt.imshow(img_arr)  # debag\n",
        "    \n",
        "    # plt.savefig(\"/content/drive/MyDrive/steven/Стивен из вселенной Стивена и международная космическая станция/Стивен из вселенной Стивена/Screenshot_520.png\")\n",
        "\n",
        "\n",
        "    img_arr = img_arr.reshape(-1, img_size, img_size, 3)\n",
        "    img_arr = img_arr/255\n",
        "\n",
        "    # print(img_arr.shape)  # debag\n",
        "    # print(img_arr[0])  # debag\n",
        "    return img_arr\n",
        "\n",
        "\n",
        "true = 'Steven'\n",
        "# true = 'ISS'\n",
        "\n",
        "y_pred = model.predict(get_check())\n",
        "y_pred_cls = np.argmax(y_pred, axis=1)\n",
        "\n",
        "if true == 'Steven':\n",
        "    y_true = [1] \n",
        "elif true == 'ISS':\n",
        "    y_true = [0]\n",
        "if y_true == y_pred_cls:\n",
        "    print(f'Predict: its {classes[y_pred_cls[0]]}')\n",
        "    print(f'Probability is: {round(np.amax([item * 100 for item in y_pred]), 3)}%')\n",
        "else:\n",
        "    print(f'Error. Its not {true}')\n",
        "    print(\"y_pred = \", y_pred * 100)\n",
        "\n",
        "# print(classification_report(y_true, y_pred_cls))\n",
        "conf_mat = confusion_matrix(y_true, y_pred_cls, labels=[0, 1])\n",
        "f, ax = plt.subplots(figsize=(10, 9))\n",
        "sns.heatmap(conf_mat, annot=True, fmt='.0f', cmap='Reds')\n",
        "ax.set_xticklabels([item + ' (true)' for item in classes])\n",
        "ax.set_yticklabels([item + ' (pred)' for item in classes])\n",
        "plt.show()"
      ]
    }
  ],
  "metadata": {
    "colab": {
      "collapsed_sections": [],
      "name": "ISSvsSteven.ipynb",
      "provenance": [],
      "authorship_tag": "ABX9TyOKmYvdAnrSROcAPjXNms6u",
      "include_colab_link": true
    },
    "kernelspec": {
      "display_name": "Python 3",
      "name": "python3"
    },
    "language_info": {
      "name": "python"
    }
  },
  "nbformat": 4,
  "nbformat_minor": 0
}